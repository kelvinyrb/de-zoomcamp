{
 "cells": [
  {
   "cell_type": "code",
   "execution_count": 58,
   "id": "ac9c2942",
   "metadata": {
    "scrolled": false
   },
   "outputs": [
    {
     "data": {
      "text/html": [
       "\n",
       "            <div>\n",
       "                <p><b>SparkSession - in-memory</b></p>\n",
       "                \n",
       "        <div>\n",
       "            <p><b>SparkContext</b></p>\n",
       "\n",
       "            <p><a href=\"http://de-zoomcamp.australia-southeast1-b.c.ny-rides-kelvin.internal:4040\">Spark UI</a></p>\n",
       "\n",
       "            <dl>\n",
       "              <dt>Version</dt>\n",
       "                <dd><code>v3.0.3</code></dd>\n",
       "              <dt>Master</dt>\n",
       "                <dd><code>local[*]</code></dd>\n",
       "              <dt>AppName</dt>\n",
       "                <dd><code>test</code></dd>\n",
       "            </dl>\n",
       "        </div>\n",
       "        \n",
       "            </div>\n",
       "        "
      ],
      "text/plain": [
       "<pyspark.sql.session.SparkSession at 0x7f42d16b2fd0>"
      ]
     },
     "execution_count": 58,
     "metadata": {},
     "output_type": "execute_result"
    }
   ],
   "source": [
    "import pyspark\n",
    "from pyspark.sql import SparkSession\n",
    "\n",
    "spark = SparkSession.builder \\\n",
    "    .master(\"local[*]\") \\\n",
    "    .appName('test') \\\n",
    "    .getOrCreate()\n",
    "spark"
   ]
  },
  {
   "cell_type": "code",
   "execution_count": null,
   "id": "ddd2656d",
   "metadata": {},
   "outputs": [],
   "source": [
    "# Get fhvhv data\n",
    "!wget https://d37ci6vzurychx.cloudfront.net/trip-data/fhvhv_tripdata_2021-01.parquet"
   ]
  },
  {
   "cell_type": "code",
   "execution_count": 3,
   "id": "72bb66f7",
   "metadata": {},
   "outputs": [
    {
     "name": "stdout",
     "output_type": "stream",
     "text": [
      "1006794 fhvhv_tripdata_2021-01.parquet\r\n"
     ]
    }
   ],
   "source": [
    "# Check number of rows\n",
    "!wc -l fhvhv_tripdata_2021-01.parquet"
   ]
  },
  {
   "cell_type": "code",
   "execution_count": 48,
   "id": "4a1e4356",
   "metadata": {},
   "outputs": [],
   "source": [
    "# Read parquet into spark df\n",
    "df = spark.read \\\n",
    "    .option(\"header\", \"true\") \\\n",
    "    .parquet('fhvhv_tripdata_2021-01.parquet')"
   ]
  },
  {
   "cell_type": "code",
   "execution_count": 49,
   "id": "82698204",
   "metadata": {
    "scrolled": false
   },
   "outputs": [
    {
     "data": {
      "text/plain": [
       "[Row(hvfhs_license_num='HV0003', dispatching_base_num='B02682', originating_base_num='B02682', request_datetime=datetime.datetime(2021, 1, 1, 0, 28, 9), on_scene_datetime=datetime.datetime(2021, 1, 1, 0, 31, 42), pickup_datetime=datetime.datetime(2021, 1, 1, 0, 33, 44), dropoff_datetime=datetime.datetime(2021, 1, 1, 0, 49, 7), PULocationID=230, DOLocationID=166, trip_miles=5.26, trip_time=923, base_passenger_fare=22.28, tolls=0.0, bcf=0.67, sales_tax=1.98, congestion_surcharge=2.75, airport_fee=None, tips=0.0, driver_pay=14.99, shared_request_flag='N', shared_match_flag='N', access_a_ride_flag=' ', wav_request_flag='N', wav_match_flag='N'),\n",
       " Row(hvfhs_license_num='HV0003', dispatching_base_num='B02682', originating_base_num='B02682', request_datetime=datetime.datetime(2021, 1, 1, 0, 45, 56), on_scene_datetime=datetime.datetime(2021, 1, 1, 0, 55, 19), pickup_datetime=datetime.datetime(2021, 1, 1, 0, 55, 19), dropoff_datetime=datetime.datetime(2021, 1, 1, 1, 18, 21), PULocationID=152, DOLocationID=167, trip_miles=3.65, trip_time=1382, base_passenger_fare=18.36, tolls=0.0, bcf=0.55, sales_tax=1.63, congestion_surcharge=0.0, airport_fee=None, tips=0.0, driver_pay=17.06, shared_request_flag='N', shared_match_flag='N', access_a_ride_flag=' ', wav_request_flag='N', wav_match_flag='N'),\n",
       " Row(hvfhs_license_num='HV0003', dispatching_base_num='B02764', originating_base_num='B02764', request_datetime=datetime.datetime(2021, 1, 1, 0, 21, 15), on_scene_datetime=datetime.datetime(2021, 1, 1, 0, 22, 41), pickup_datetime=datetime.datetime(2021, 1, 1, 0, 23, 56), dropoff_datetime=datetime.datetime(2021, 1, 1, 0, 38, 5), PULocationID=233, DOLocationID=142, trip_miles=3.51, trip_time=849, base_passenger_fare=14.05, tolls=0.0, bcf=0.48, sales_tax=1.25, congestion_surcharge=2.75, airport_fee=None, tips=0.94, driver_pay=12.98, shared_request_flag='N', shared_match_flag='N', access_a_ride_flag=' ', wav_request_flag='N', wav_match_flag='N'),\n",
       " Row(hvfhs_license_num='HV0003', dispatching_base_num='B02764', originating_base_num='B02764', request_datetime=datetime.datetime(2021, 1, 1, 0, 39, 12), on_scene_datetime=datetime.datetime(2021, 1, 1, 0, 42, 37), pickup_datetime=datetime.datetime(2021, 1, 1, 0, 42, 51), dropoff_datetime=datetime.datetime(2021, 1, 1, 0, 45, 50), PULocationID=142, DOLocationID=143, trip_miles=0.74, trip_time=179, base_passenger_fare=7.91, tolls=0.0, bcf=0.24, sales_tax=0.7, congestion_surcharge=2.75, airport_fee=None, tips=0.0, driver_pay=7.41, shared_request_flag='N', shared_match_flag='N', access_a_ride_flag=' ', wav_request_flag='N', wav_match_flag='N'),\n",
       " Row(hvfhs_license_num='HV0003', dispatching_base_num='B02764', originating_base_num='B02764', request_datetime=datetime.datetime(2021, 1, 1, 0, 46, 11), on_scene_datetime=datetime.datetime(2021, 1, 1, 0, 47, 17), pickup_datetime=datetime.datetime(2021, 1, 1, 0, 48, 14), dropoff_datetime=datetime.datetime(2021, 1, 1, 1, 8, 42), PULocationID=143, DOLocationID=78, trip_miles=9.2, trip_time=1228, base_passenger_fare=27.11, tolls=0.0, bcf=0.81, sales_tax=2.41, congestion_surcharge=2.75, airport_fee=None, tips=0.0, driver_pay=22.44, shared_request_flag='N', shared_match_flag='N', access_a_ride_flag=' ', wav_request_flag='N', wav_match_flag='N')]"
      ]
     },
     "execution_count": 49,
     "metadata": {},
     "output_type": "execute_result"
    }
   ],
   "source": [
    "# Check df contents\n",
    "df.head(5)"
   ]
  },
  {
   "cell_type": "code",
   "execution_count": 3,
   "id": "3b0ace09",
   "metadata": {
    "scrolled": false
   },
   "outputs": [
    {
     "data": {
      "text/plain": [
       "StructType(List(StructField(hvfhs_license_num,StringType,true),StructField(dispatching_base_num,StringType,true),StructField(originating_base_num,StringType,true),StructField(request_datetime,TimestampType,true),StructField(on_scene_datetime,TimestampType,true),StructField(pickup_datetime,TimestampType,true),StructField(dropoff_datetime,TimestampType,true),StructField(PULocationID,LongType,true),StructField(DOLocationID,LongType,true),StructField(trip_miles,DoubleType,true),StructField(trip_time,LongType,true),StructField(base_passenger_fare,DoubleType,true),StructField(tolls,DoubleType,true),StructField(bcf,DoubleType,true),StructField(sales_tax,DoubleType,true),StructField(congestion_surcharge,DoubleType,true),StructField(airport_fee,DoubleType,true),StructField(tips,DoubleType,true),StructField(driver_pay,DoubleType,true),StructField(shared_request_flag,StringType,true),StructField(shared_match_flag,StringType,true),StructField(access_a_ride_flag,StringType,true),StructField(wav_request_flag,StringType,true),StructField(wav_match_flag,StringType,true)))"
      ]
     },
     "execution_count": 3,
     "metadata": {},
     "output_type": "execute_result"
    }
   ],
   "source": [
    "# Check df schema (parquet files already have schema, compared to csv which doesn't)\n",
    "df.schema"
   ]
  },
  {
   "cell_type": "code",
   "execution_count": 33,
   "id": "ba0ffaff",
   "metadata": {},
   "outputs": [],
   "source": [
    "# Skip this command: won't work because it will get the first 101 lines of the parquet, not the first 101 rows.\n",
    "!head -n 101 fhvhv_tripdata_2021-01.parquet > fhvhv_tripdata_2021-01_head.parquet"
   ]
  },
  {
   "cell_type": "code",
   "execution_count": 32,
   "id": "fbf0063d",
   "metadata": {},
   "outputs": [],
   "source": [
    "import pandas as pd"
   ]
  },
  {
   "cell_type": "code",
   "execution_count": 33,
   "id": "660e5582",
   "metadata": {
    "scrolled": false
   },
   "outputs": [],
   "source": [
    "df_pandas = pd.read_parquet(\"fhvhv_tripdata_2021-01.parquet\")"
   ]
  },
  {
   "cell_type": "code",
   "execution_count": 32,
   "id": "37018276",
   "metadata": {},
   "outputs": [
    {
     "data": {
      "text/plain": [
       "11908468"
      ]
     },
     "execution_count": 32,
     "metadata": {},
     "output_type": "execute_result"
    }
   ],
   "source": [
    "df_pandas.shape[0]"
   ]
  },
  {
   "cell_type": "code",
   "execution_count": 35,
   "id": "8aa1b1b9",
   "metadata": {},
   "outputs": [],
   "source": [
    "df_head = df_pandas.head(101)"
   ]
  },
  {
   "cell_type": "code",
   "execution_count": 36,
   "id": "258224c0",
   "metadata": {},
   "outputs": [
    {
     "data": {
      "text/plain": [
       "101"
      ]
     },
     "execution_count": 36,
     "metadata": {},
     "output_type": "execute_result"
    }
   ],
   "source": [
    "df_head.shape[0]"
   ]
  },
  {
   "cell_type": "code",
   "execution_count": 37,
   "id": "ce162245",
   "metadata": {},
   "outputs": [
    {
     "data": {
      "text/html": [
       "<div>\n",
       "<style scoped>\n",
       "    .dataframe tbody tr th:only-of-type {\n",
       "        vertical-align: middle;\n",
       "    }\n",
       "\n",
       "    .dataframe tbody tr th {\n",
       "        vertical-align: top;\n",
       "    }\n",
       "\n",
       "    .dataframe thead th {\n",
       "        text-align: right;\n",
       "    }\n",
       "</style>\n",
       "<table border=\"1\" class=\"dataframe\">\n",
       "  <thead>\n",
       "    <tr style=\"text-align: right;\">\n",
       "      <th></th>\n",
       "      <th>hvfhs_license_num</th>\n",
       "      <th>dispatching_base_num</th>\n",
       "      <th>originating_base_num</th>\n",
       "      <th>request_datetime</th>\n",
       "      <th>on_scene_datetime</th>\n",
       "      <th>pickup_datetime</th>\n",
       "      <th>dropoff_datetime</th>\n",
       "      <th>PULocationID</th>\n",
       "      <th>DOLocationID</th>\n",
       "      <th>trip_miles</th>\n",
       "      <th>...</th>\n",
       "      <th>sales_tax</th>\n",
       "      <th>congestion_surcharge</th>\n",
       "      <th>airport_fee</th>\n",
       "      <th>tips</th>\n",
       "      <th>driver_pay</th>\n",
       "      <th>shared_request_flag</th>\n",
       "      <th>shared_match_flag</th>\n",
       "      <th>access_a_ride_flag</th>\n",
       "      <th>wav_request_flag</th>\n",
       "      <th>wav_match_flag</th>\n",
       "    </tr>\n",
       "  </thead>\n",
       "  <tbody>\n",
       "    <tr>\n",
       "      <th>0</th>\n",
       "      <td>HV0003</td>\n",
       "      <td>B02682</td>\n",
       "      <td>B02682</td>\n",
       "      <td>2021-01-01 00:28:09</td>\n",
       "      <td>2021-01-01 00:31:42</td>\n",
       "      <td>2021-01-01 00:33:44</td>\n",
       "      <td>2021-01-01 00:49:07</td>\n",
       "      <td>230</td>\n",
       "      <td>166</td>\n",
       "      <td>5.260</td>\n",
       "      <td>...</td>\n",
       "      <td>1.98</td>\n",
       "      <td>2.75</td>\n",
       "      <td>NaN</td>\n",
       "      <td>0.00</td>\n",
       "      <td>14.99</td>\n",
       "      <td>N</td>\n",
       "      <td>N</td>\n",
       "      <td></td>\n",
       "      <td>N</td>\n",
       "      <td>N</td>\n",
       "    </tr>\n",
       "    <tr>\n",
       "      <th>1</th>\n",
       "      <td>HV0003</td>\n",
       "      <td>B02682</td>\n",
       "      <td>B02682</td>\n",
       "      <td>2021-01-01 00:45:56</td>\n",
       "      <td>2021-01-01 00:55:19</td>\n",
       "      <td>2021-01-01 00:55:19</td>\n",
       "      <td>2021-01-01 01:18:21</td>\n",
       "      <td>152</td>\n",
       "      <td>167</td>\n",
       "      <td>3.650</td>\n",
       "      <td>...</td>\n",
       "      <td>1.63</td>\n",
       "      <td>0.00</td>\n",
       "      <td>NaN</td>\n",
       "      <td>0.00</td>\n",
       "      <td>17.06</td>\n",
       "      <td>N</td>\n",
       "      <td>N</td>\n",
       "      <td></td>\n",
       "      <td>N</td>\n",
       "      <td>N</td>\n",
       "    </tr>\n",
       "    <tr>\n",
       "      <th>2</th>\n",
       "      <td>HV0003</td>\n",
       "      <td>B02764</td>\n",
       "      <td>B02764</td>\n",
       "      <td>2021-01-01 00:21:15</td>\n",
       "      <td>2021-01-01 00:22:41</td>\n",
       "      <td>2021-01-01 00:23:56</td>\n",
       "      <td>2021-01-01 00:38:05</td>\n",
       "      <td>233</td>\n",
       "      <td>142</td>\n",
       "      <td>3.510</td>\n",
       "      <td>...</td>\n",
       "      <td>1.25</td>\n",
       "      <td>2.75</td>\n",
       "      <td>NaN</td>\n",
       "      <td>0.94</td>\n",
       "      <td>12.98</td>\n",
       "      <td>N</td>\n",
       "      <td>N</td>\n",
       "      <td></td>\n",
       "      <td>N</td>\n",
       "      <td>N</td>\n",
       "    </tr>\n",
       "    <tr>\n",
       "      <th>3</th>\n",
       "      <td>HV0003</td>\n",
       "      <td>B02764</td>\n",
       "      <td>B02764</td>\n",
       "      <td>2021-01-01 00:39:12</td>\n",
       "      <td>2021-01-01 00:42:37</td>\n",
       "      <td>2021-01-01 00:42:51</td>\n",
       "      <td>2021-01-01 00:45:50</td>\n",
       "      <td>142</td>\n",
       "      <td>143</td>\n",
       "      <td>0.740</td>\n",
       "      <td>...</td>\n",
       "      <td>0.70</td>\n",
       "      <td>2.75</td>\n",
       "      <td>NaN</td>\n",
       "      <td>0.00</td>\n",
       "      <td>7.41</td>\n",
       "      <td>N</td>\n",
       "      <td>N</td>\n",
       "      <td></td>\n",
       "      <td>N</td>\n",
       "      <td>N</td>\n",
       "    </tr>\n",
       "    <tr>\n",
       "      <th>4</th>\n",
       "      <td>HV0003</td>\n",
       "      <td>B02764</td>\n",
       "      <td>B02764</td>\n",
       "      <td>2021-01-01 00:46:11</td>\n",
       "      <td>2021-01-01 00:47:17</td>\n",
       "      <td>2021-01-01 00:48:14</td>\n",
       "      <td>2021-01-01 01:08:42</td>\n",
       "      <td>143</td>\n",
       "      <td>78</td>\n",
       "      <td>9.200</td>\n",
       "      <td>...</td>\n",
       "      <td>2.41</td>\n",
       "      <td>2.75</td>\n",
       "      <td>NaN</td>\n",
       "      <td>0.00</td>\n",
       "      <td>22.44</td>\n",
       "      <td>N</td>\n",
       "      <td>N</td>\n",
       "      <td></td>\n",
       "      <td>N</td>\n",
       "      <td>N</td>\n",
       "    </tr>\n",
       "    <tr>\n",
       "      <th>...</th>\n",
       "      <td>...</td>\n",
       "      <td>...</td>\n",
       "      <td>...</td>\n",
       "      <td>...</td>\n",
       "      <td>...</td>\n",
       "      <td>...</td>\n",
       "      <td>...</td>\n",
       "      <td>...</td>\n",
       "      <td>...</td>\n",
       "      <td>...</td>\n",
       "      <td>...</td>\n",
       "      <td>...</td>\n",
       "      <td>...</td>\n",
       "      <td>...</td>\n",
       "      <td>...</td>\n",
       "      <td>...</td>\n",
       "      <td>...</td>\n",
       "      <td>...</td>\n",
       "      <td>...</td>\n",
       "      <td>...</td>\n",
       "      <td>...</td>\n",
       "    </tr>\n",
       "    <tr>\n",
       "      <th>96</th>\n",
       "      <td>HV0005</td>\n",
       "      <td>B02510</td>\n",
       "      <td>None</td>\n",
       "      <td>2021-01-01 00:11:55</td>\n",
       "      <td>NaT</td>\n",
       "      <td>2021-01-01 00:15:03</td>\n",
       "      <td>2021-01-01 00:41:05</td>\n",
       "      <td>48</td>\n",
       "      <td>97</td>\n",
       "      <td>6.881</td>\n",
       "      <td>...</td>\n",
       "      <td>2.74</td>\n",
       "      <td>2.75</td>\n",
       "      <td>NaN</td>\n",
       "      <td>0.00</td>\n",
       "      <td>20.71</td>\n",
       "      <td>N</td>\n",
       "      <td>N</td>\n",
       "      <td>N</td>\n",
       "      <td>N</td>\n",
       "      <td>N</td>\n",
       "    </tr>\n",
       "    <tr>\n",
       "      <th>97</th>\n",
       "      <td>HV0005</td>\n",
       "      <td>B02510</td>\n",
       "      <td>None</td>\n",
       "      <td>2021-01-01 00:40:38</td>\n",
       "      <td>NaT</td>\n",
       "      <td>2021-01-01 00:47:09</td>\n",
       "      <td>2021-01-01 01:05:40</td>\n",
       "      <td>97</td>\n",
       "      <td>231</td>\n",
       "      <td>3.447</td>\n",
       "      <td>...</td>\n",
       "      <td>1.69</td>\n",
       "      <td>2.75</td>\n",
       "      <td>NaN</td>\n",
       "      <td>0.00</td>\n",
       "      <td>15.04</td>\n",
       "      <td>N</td>\n",
       "      <td>N</td>\n",
       "      <td>N</td>\n",
       "      <td>N</td>\n",
       "      <td>N</td>\n",
       "    </tr>\n",
       "    <tr>\n",
       "      <th>98</th>\n",
       "      <td>HV0005</td>\n",
       "      <td>B02510</td>\n",
       "      <td>None</td>\n",
       "      <td>2021-01-01 00:05:44</td>\n",
       "      <td>NaT</td>\n",
       "      <td>2021-01-01 00:09:53</td>\n",
       "      <td>2021-01-01 00:49:57</td>\n",
       "      <td>61</td>\n",
       "      <td>117</td>\n",
       "      <td>13.469</td>\n",
       "      <td>...</td>\n",
       "      <td>3.99</td>\n",
       "      <td>0.00</td>\n",
       "      <td>NaN</td>\n",
       "      <td>0.00</td>\n",
       "      <td>35.08</td>\n",
       "      <td>N</td>\n",
       "      <td>N</td>\n",
       "      <td>N</td>\n",
       "      <td>N</td>\n",
       "      <td>N</td>\n",
       "    </tr>\n",
       "    <tr>\n",
       "      <th>99</th>\n",
       "      <td>HV0005</td>\n",
       "      <td>B02510</td>\n",
       "      <td>None</td>\n",
       "      <td>2021-01-01 00:41:41</td>\n",
       "      <td>NaT</td>\n",
       "      <td>2021-01-01 00:52:59</td>\n",
       "      <td>2021-01-01 01:27:18</td>\n",
       "      <td>117</td>\n",
       "      <td>76</td>\n",
       "      <td>10.282</td>\n",
       "      <td>...</td>\n",
       "      <td>3.01</td>\n",
       "      <td>0.00</td>\n",
       "      <td>NaN</td>\n",
       "      <td>0.00</td>\n",
       "      <td>28.66</td>\n",
       "      <td>N</td>\n",
       "      <td>N</td>\n",
       "      <td>N</td>\n",
       "      <td>N</td>\n",
       "      <td>N</td>\n",
       "    </tr>\n",
       "    <tr>\n",
       "      <th>100</th>\n",
       "      <td>HV0003</td>\n",
       "      <td>B02764</td>\n",
       "      <td>B02764</td>\n",
       "      <td>2021-01-01 00:37:39</td>\n",
       "      <td>2021-01-01 00:41:52</td>\n",
       "      <td>2021-01-01 00:42:10</td>\n",
       "      <td>2021-01-01 00:46:56</td>\n",
       "      <td>7</td>\n",
       "      <td>7</td>\n",
       "      <td>1.380</td>\n",
       "      <td>...</td>\n",
       "      <td>0.70</td>\n",
       "      <td>0.00</td>\n",
       "      <td>NaN</td>\n",
       "      <td>0.00</td>\n",
       "      <td>8.84</td>\n",
       "      <td>N</td>\n",
       "      <td>N</td>\n",
       "      <td></td>\n",
       "      <td>N</td>\n",
       "      <td>N</td>\n",
       "    </tr>\n",
       "  </tbody>\n",
       "</table>\n",
       "<p>101 rows × 24 columns</p>\n",
       "</div>"
      ],
      "text/plain": [
       "    hvfhs_license_num dispatching_base_num originating_base_num  \\\n",
       "0              HV0003               B02682               B02682   \n",
       "1              HV0003               B02682               B02682   \n",
       "2              HV0003               B02764               B02764   \n",
       "3              HV0003               B02764               B02764   \n",
       "4              HV0003               B02764               B02764   \n",
       "..                ...                  ...                  ...   \n",
       "96             HV0005               B02510                 None   \n",
       "97             HV0005               B02510                 None   \n",
       "98             HV0005               B02510                 None   \n",
       "99             HV0005               B02510                 None   \n",
       "100            HV0003               B02764               B02764   \n",
       "\n",
       "       request_datetime   on_scene_datetime     pickup_datetime  \\\n",
       "0   2021-01-01 00:28:09 2021-01-01 00:31:42 2021-01-01 00:33:44   \n",
       "1   2021-01-01 00:45:56 2021-01-01 00:55:19 2021-01-01 00:55:19   \n",
       "2   2021-01-01 00:21:15 2021-01-01 00:22:41 2021-01-01 00:23:56   \n",
       "3   2021-01-01 00:39:12 2021-01-01 00:42:37 2021-01-01 00:42:51   \n",
       "4   2021-01-01 00:46:11 2021-01-01 00:47:17 2021-01-01 00:48:14   \n",
       "..                  ...                 ...                 ...   \n",
       "96  2021-01-01 00:11:55                 NaT 2021-01-01 00:15:03   \n",
       "97  2021-01-01 00:40:38                 NaT 2021-01-01 00:47:09   \n",
       "98  2021-01-01 00:05:44                 NaT 2021-01-01 00:09:53   \n",
       "99  2021-01-01 00:41:41                 NaT 2021-01-01 00:52:59   \n",
       "100 2021-01-01 00:37:39 2021-01-01 00:41:52 2021-01-01 00:42:10   \n",
       "\n",
       "       dropoff_datetime  PULocationID  DOLocationID  trip_miles  ...  \\\n",
       "0   2021-01-01 00:49:07           230           166       5.260  ...   \n",
       "1   2021-01-01 01:18:21           152           167       3.650  ...   \n",
       "2   2021-01-01 00:38:05           233           142       3.510  ...   \n",
       "3   2021-01-01 00:45:50           142           143       0.740  ...   \n",
       "4   2021-01-01 01:08:42           143            78       9.200  ...   \n",
       "..                  ...           ...           ...         ...  ...   \n",
       "96  2021-01-01 00:41:05            48            97       6.881  ...   \n",
       "97  2021-01-01 01:05:40            97           231       3.447  ...   \n",
       "98  2021-01-01 00:49:57            61           117      13.469  ...   \n",
       "99  2021-01-01 01:27:18           117            76      10.282  ...   \n",
       "100 2021-01-01 00:46:56             7             7       1.380  ...   \n",
       "\n",
       "     sales_tax  congestion_surcharge  airport_fee  tips  driver_pay  \\\n",
       "0         1.98                  2.75          NaN  0.00       14.99   \n",
       "1         1.63                  0.00          NaN  0.00       17.06   \n",
       "2         1.25                  2.75          NaN  0.94       12.98   \n",
       "3         0.70                  2.75          NaN  0.00        7.41   \n",
       "4         2.41                  2.75          NaN  0.00       22.44   \n",
       "..         ...                   ...          ...   ...         ...   \n",
       "96        2.74                  2.75          NaN  0.00       20.71   \n",
       "97        1.69                  2.75          NaN  0.00       15.04   \n",
       "98        3.99                  0.00          NaN  0.00       35.08   \n",
       "99        3.01                  0.00          NaN  0.00       28.66   \n",
       "100       0.70                  0.00          NaN  0.00        8.84   \n",
       "\n",
       "     shared_request_flag  shared_match_flag  access_a_ride_flag  \\\n",
       "0                      N                  N                       \n",
       "1                      N                  N                       \n",
       "2                      N                  N                       \n",
       "3                      N                  N                       \n",
       "4                      N                  N                       \n",
       "..                   ...                ...                 ...   \n",
       "96                     N                  N                   N   \n",
       "97                     N                  N                   N   \n",
       "98                     N                  N                   N   \n",
       "99                     N                  N                   N   \n",
       "100                    N                  N                       \n",
       "\n",
       "     wav_request_flag wav_match_flag  \n",
       "0                   N              N  \n",
       "1                   N              N  \n",
       "2                   N              N  \n",
       "3                   N              N  \n",
       "4                   N              N  \n",
       "..                ...            ...  \n",
       "96                  N              N  \n",
       "97                  N              N  \n",
       "98                  N              N  \n",
       "99                  N              N  \n",
       "100                 N              N  \n",
       "\n",
       "[101 rows x 24 columns]"
      ]
     },
     "execution_count": 37,
     "metadata": {},
     "output_type": "execute_result"
    }
   ],
   "source": [
    "df_head"
   ]
  },
  {
   "cell_type": "code",
   "execution_count": 38,
   "id": "2531995b",
   "metadata": {},
   "outputs": [
    {
     "data": {
      "text/plain": [
       "hvfhs_license_num               object\n",
       "dispatching_base_num            object\n",
       "originating_base_num            object\n",
       "request_datetime        datetime64[ns]\n",
       "on_scene_datetime       datetime64[ns]\n",
       "pickup_datetime         datetime64[ns]\n",
       "dropoff_datetime        datetime64[ns]\n",
       "PULocationID                     int64\n",
       "DOLocationID                     int64\n",
       "trip_miles                     float64\n",
       "trip_time                        int64\n",
       "base_passenger_fare            float64\n",
       "tolls                          float64\n",
       "bcf                            float64\n",
       "sales_tax                      float64\n",
       "congestion_surcharge           float64\n",
       "airport_fee                    float64\n",
       "tips                           float64\n",
       "driver_pay                     float64\n",
       "shared_request_flag             object\n",
       "shared_match_flag               object\n",
       "access_a_ride_flag              object\n",
       "wav_request_flag                object\n",
       "wav_match_flag                  object\n",
       "dtype: object"
      ]
     },
     "execution_count": 38,
     "metadata": {},
     "output_type": "execute_result"
    }
   ],
   "source": [
    "df_pandas.dtypes"
   ]
  },
  {
   "cell_type": "code",
   "execution_count": 39,
   "id": "2d8ef269",
   "metadata": {},
   "outputs": [
    {
     "data": {
      "text/plain": [
       "StructType(List(StructField(hvfhs_license_num,StringType,true),StructField(dispatching_base_num,StringType,true),StructField(originating_base_num,StringType,true),StructField(request_datetime,TimestampType,true),StructField(on_scene_datetime,TimestampType,true),StructField(pickup_datetime,TimestampType,true),StructField(dropoff_datetime,TimestampType,true),StructField(PULocationID,LongType,true),StructField(DOLocationID,LongType,true),StructField(trip_miles,DoubleType,true),StructField(trip_time,LongType,true),StructField(base_passenger_fare,DoubleType,true),StructField(tolls,DoubleType,true),StructField(bcf,DoubleType,true),StructField(sales_tax,DoubleType,true),StructField(congestion_surcharge,DoubleType,true),StructField(airport_fee,DoubleType,true),StructField(tips,DoubleType,true),StructField(driver_pay,DoubleType,true),StructField(shared_request_flag,StringType,true),StructField(shared_match_flag,StringType,true),StructField(access_a_ride_flag,StringType,true),StructField(wav_request_flag,StringType,true),StructField(wav_match_flag,StringType,true)))"
      ]
     },
     "execution_count": 39,
     "metadata": {},
     "output_type": "execute_result"
    }
   ],
   "source": [
    "# Get schema for parquet file\n",
    "spark.createDataFrame(df_head).schema"
   ]
  },
  {
   "cell_type": "code",
   "execution_count": 9,
   "id": "44fef36b",
   "metadata": {},
   "outputs": [],
   "source": [
    "from pyspark.sql import types"
   ]
  },
  {
   "cell_type": "code",
   "execution_count": 10,
   "id": "469ad618",
   "metadata": {},
   "outputs": [],
   "source": [
    "# Create python formatted schema so parquet schema can be changed\n",
    "schema = types.StructType([\n",
    "    types.StructField('hvfhs_license_num',types.StringType(),True),\n",
    "    types.StructField('dispatching_base_num',types.StringType(),True),\n",
    "    types.StructField('originating_base_num',types.StringType(),True),\n",
    "    types.StructField('request_datetime',types.TimestampType(),True),\n",
    "    types.StructField('on_scene_datetime',types.TimestampType(),True),\n",
    "    types.StructField('pickup_datetime',types.TimestampType(),True),\n",
    "    types.StructField('dropoff_datetime',types.TimestampType(),True),\n",
    "    types.StructField('PULocationID',types.LongType(),True),\n",
    "    types.StructField('DOLocationID',types.LongType(),True),\n",
    "    types.StructField('trip_miles',types.DoubleType(),True),\n",
    "    types.StructField('trip_time',types.LongType(),True),\n",
    "    types.StructField('base_passenger_fare',types.DoubleType(),True),\n",
    "    types.StructField('tolls',types.DoubleType(),True),\n",
    "    types.StructField('bcf',types.DoubleType(),True),\n",
    "    types.StructField('sales_tax',types.DoubleType(),True),\n",
    "    types.StructField('congestion_surcharge',types.DoubleType(),True),\n",
    "    types.StructField('airport_fee',types.DoubleType(),True),\n",
    "    types.StructField('tips',types.DoubleType(),True),\n",
    "    types.StructField('driver_pay',types.DoubleType(),True),\n",
    "    types.StructField('shared_request_flag',types.StringType(),True),\n",
    "    types.StructField('shared_match_flag',types.StringType(),True),\n",
    "    types.StructField('access_a_ride_flag',types.StringType(),True),\n",
    "    types.StructField('wav_request_flag',types.StringType(),True),\n",
    "    types.StructField('wav_match_flag',types.StringType(),True)\n",
    "]\n",
    ")"
   ]
  },
  {
   "cell_type": "code",
   "execution_count": 11,
   "id": "af242e17",
   "metadata": {
    "scrolled": true
   },
   "outputs": [
    {
     "data": {
      "text/plain": [
       "StructType(List(StructField(hvfhs_license_num,StringType,true),StructField(dispatching_base_num,StringType,true),StructField(originating_base_num,StringType,true),StructField(request_datetime,TimestampType,true),StructField(on_scene_datetime,TimestampType,true),StructField(pickup_datetime,TimestampType,true),StructField(dropoff_datetime,TimestampType,true),StructField(PULocationID,LongType,true),StructField(DOLocationID,LongType,true),StructField(trip_miles,DoubleType,true),StructField(trip_time,LongType,true),StructField(base_passenger_fare,DoubleType,true),StructField(tolls,DoubleType,true),StructField(bcf,DoubleType,true),StructField(sales_tax,DoubleType,true),StructField(congestion_surcharge,DoubleType,true),StructField(airport_fee,DoubleType,true),StructField(tips,DoubleType,true),StructField(driver_pay,DoubleType,true),StructField(shared_request_flag,StringType,true),StructField(shared_match_flag,StringType,true),StructField(access_a_ride_flag,StringType,true),StructField(wav_request_flag,StringType,true),StructField(wav_match_flag,StringType,true)))"
      ]
     },
     "execution_count": 11,
     "metadata": {},
     "output_type": "execute_result"
    }
   ],
   "source": [
    "schema"
   ]
  },
  {
   "cell_type": "code",
   "execution_count": 12,
   "id": "bac8c231",
   "metadata": {},
   "outputs": [],
   "source": [
    "# Set predefined schema when parrquet is read\n",
    "df = spark.read \\\n",
    "    .option(\"header\", \"true\") \\\n",
    "    .schema(schema) \\\n",
    "    .parquet('fhvhv_tripdata_2021-01.parquet')"
   ]
  },
  {
   "cell_type": "code",
   "execution_count": null,
   "id": "443a8820",
   "metadata": {
    "scrolled": true
   },
   "outputs": [],
   "source": [
    "df.head(5)"
   ]
  },
  {
   "cell_type": "code",
   "execution_count": 121,
   "id": "82d4f090",
   "metadata": {},
   "outputs": [
    {
     "data": {
      "text/plain": [
       "StructType(List(StructField(hvfhs_license_num,StringType,true),StructField(dispatching_base_num,StringType,true),StructField(originating_base_num,StringType,true),StructField(request_datetime,TimestampType,true),StructField(on_scene_datetime,TimestampType,true),StructField(pickup_datetime,TimestampType,true),StructField(dropoff_datetime,TimestampType,true),StructField(PULocationID,LongType,true),StructField(DOLocationID,LongType,true),StructField(trip_miles,DoubleType,true),StructField(trip_time,LongType,true),StructField(base_passenger_fare,DoubleType,true),StructField(tolls,DoubleType,true),StructField(bcf,DoubleType,true),StructField(sales_tax,DoubleType,true),StructField(congestion_surcharge,DoubleType,true),StructField(airport_fee,DoubleType,true),StructField(tips,DoubleType,true),StructField(driver_pay,DoubleType,true),StructField(shared_request_flag,StringType,true),StructField(shared_match_flag,StringType,true),StructField(access_a_ride_flag,StringType,true),StructField(wav_request_flag,StringType,true),StructField(wav_match_flag,StringType,true)))"
      ]
     },
     "execution_count": 121,
     "metadata": {},
     "output_type": "execute_result"
    }
   ],
   "source": [
    "df.schema"
   ]
  },
  {
   "cell_type": "code",
   "execution_count": 122,
   "id": "961c47f0",
   "metadata": {},
   "outputs": [
    {
     "data": {
      "text/plain": [
       "[('hvfhs_license_num', 'string'),\n",
       " ('dispatching_base_num', 'string'),\n",
       " ('originating_base_num', 'string'),\n",
       " ('request_datetime', 'timestamp'),\n",
       " ('on_scene_datetime', 'timestamp'),\n",
       " ('pickup_datetime', 'timestamp'),\n",
       " ('dropoff_datetime', 'timestamp'),\n",
       " ('PULocationID', 'bigint'),\n",
       " ('DOLocationID', 'bigint'),\n",
       " ('trip_miles', 'double'),\n",
       " ('trip_time', 'bigint'),\n",
       " ('base_passenger_fare', 'double'),\n",
       " ('tolls', 'double'),\n",
       " ('bcf', 'double'),\n",
       " ('sales_tax', 'double'),\n",
       " ('congestion_surcharge', 'double'),\n",
       " ('airport_fee', 'double'),\n",
       " ('tips', 'double'),\n",
       " ('driver_pay', 'double'),\n",
       " ('shared_request_flag', 'string'),\n",
       " ('shared_match_flag', 'string'),\n",
       " ('access_a_ride_flag', 'string'),\n",
       " ('wav_request_flag', 'string'),\n",
       " ('wav_match_flag', 'string')]"
      ]
     },
     "execution_count": 122,
     "metadata": {},
     "output_type": "execute_result"
    }
   ],
   "source": [
    "df.dtypes"
   ]
  },
  {
   "cell_type": "code",
   "execution_count": 13,
   "id": "2acb2ec0",
   "metadata": {},
   "outputs": [],
   "source": [
    "# Partition the spark df\n",
    "df = df.repartition(24) # 1st stage: 24 tasks"
   ]
  },
  {
   "cell_type": "code",
   "execution_count": null,
   "id": "16a8d520",
   "metadata": {
    "scrolled": true
   },
   "outputs": [],
   "source": [
    "# Write the partitioned df into a folder\n",
    "df.write.parquet('fhvhv/2021/01') # 2nd stage: C4 tasks to save the results"
   ]
  },
  {
   "cell_type": "code",
   "execution_count": 126,
   "id": "e7d95fdf",
   "metadata": {},
   "outputs": [
    {
     "name": "stdout",
     "output_type": "stream",
     "text": [
      "26\r\n"
     ]
    }
   ],
   "source": [
    "# Count the approx number of files created \n",
    "!ls -lh fhvhv/2021/01/ | wc -l"
   ]
  },
  {
   "cell_type": "code",
   "execution_count": 40,
   "id": "3bb1a012",
   "metadata": {},
   "outputs": [],
   "source": [
    "# Read the partitioned parquet\n",
    "df = spark.read.parquet('fhvhv/2021/01')"
   ]
  },
  {
   "cell_type": "code",
   "execution_count": 41,
   "id": "8096e4da",
   "metadata": {
    "scrolled": true
   },
   "outputs": [
    {
     "name": "stdout",
     "output_type": "stream",
     "text": [
      "root\n",
      " |-- hvfhs_license_num: string (nullable = true)\n",
      " |-- dispatching_base_num: string (nullable = true)\n",
      " |-- originating_base_num: string (nullable = true)\n",
      " |-- request_datetime: timestamp (nullable = true)\n",
      " |-- on_scene_datetime: timestamp (nullable = true)\n",
      " |-- pickup_datetime: timestamp (nullable = true)\n",
      " |-- dropoff_datetime: timestamp (nullable = true)\n",
      " |-- PULocationID: long (nullable = true)\n",
      " |-- DOLocationID: long (nullable = true)\n",
      " |-- trip_miles: double (nullable = true)\n",
      " |-- trip_time: long (nullable = true)\n",
      " |-- base_passenger_fare: double (nullable = true)\n",
      " |-- tolls: double (nullable = true)\n",
      " |-- bcf: double (nullable = true)\n",
      " |-- sales_tax: double (nullable = true)\n",
      " |-- congestion_surcharge: double (nullable = true)\n",
      " |-- airport_fee: double (nullable = true)\n",
      " |-- tips: double (nullable = true)\n",
      " |-- driver_pay: double (nullable = true)\n",
      " |-- shared_request_flag: string (nullable = true)\n",
      " |-- shared_match_flag: string (nullable = true)\n",
      " |-- access_a_ride_flag: string (nullable = true)\n",
      " |-- wav_request_flag: string (nullable = true)\n",
      " |-- wav_match_flag: string (nullable = true)\n",
      "\n"
     ]
    }
   ],
   "source": [
    "df.printSchema()"
   ]
  },
  {
   "cell_type": "code",
   "execution_count": 42,
   "id": "ff7d01ce",
   "metadata": {},
   "outputs": [
    {
     "name": "stdout",
     "output_type": "stream",
     "text": [
      "+-------------------+-------------------+------------+------------+\n",
      "|    pickup_datetime|   dropoff_datetime|PULocationID|DOLocationID|\n",
      "+-------------------+-------------------+------------+------------+\n",
      "|2021-01-15 14:11:07|2021-01-15 14:41:51|         142|         107|\n",
      "|2021-01-29 18:20:30|2021-01-29 18:32:03|         159|          78|\n",
      "|2021-01-11 21:49:41|2021-01-11 22:00:20|         158|          87|\n",
      "|2021-01-09 07:49:14|2021-01-09 08:02:16|         118|           6|\n",
      "|2021-01-27 17:56:55|2021-01-27 18:11:04|         116|          50|\n",
      "|2021-01-23 15:15:15|2021-01-23 15:25:35|          17|         189|\n",
      "|2021-01-29 16:05:00|2021-01-29 16:20:57|         205|         215|\n",
      "|2021-01-30 23:46:53|2021-01-31 00:00:42|          69|         212|\n",
      "|2021-01-28 21:56:06|2021-01-28 21:59:55|          20|          78|\n",
      "|2021-01-07 20:32:43|2021-01-07 20:53:50|          82|          75|\n",
      "|2021-01-26 20:35:42|2021-01-26 20:45:22|          47|          59|\n",
      "|2021-01-21 14:07:53|2021-01-21 14:21:52|          41|         159|\n",
      "|2021-01-06 19:44:10|2021-01-06 19:53:14|         181|         257|\n",
      "|2021-01-21 05:39:40|2021-01-21 06:19:57|         210|         186|\n",
      "|2021-01-31 07:51:38|2021-01-31 08:12:20|           4|         239|\n",
      "|2021-01-15 17:26:44|2021-01-15 18:05:15|         130|         129|\n",
      "|2021-01-24 03:01:50|2021-01-24 03:19:14|         213|         265|\n",
      "|2021-01-20 14:13:02|2021-01-20 14:28:00|          51|         248|\n",
      "|2021-01-30 13:22:28|2021-01-30 13:33:09|         134|         132|\n",
      "|2021-01-21 11:41:35|2021-01-21 12:08:57|         177|           7|\n",
      "+-------------------+-------------------+------------+------------+\n",
      "only showing top 20 rows\n",
      "\n"
     ]
    }
   ],
   "source": [
    "'''\n",
    "Transformation (select, filtering, group by etc.) are lazy and are not executed straight away and won't show on Spark Master UI\n",
    "Action (show, take, head, write) are not lazy and are executed straight away\n",
    "'''\n",
    "df.select('pickup_datetime', 'dropoff_datetime', 'PULocationID', 'DOLocationID') \\\n",
    "    .filter(df.hvfhs_license_num == 'HV0003') \\\n",
    "    .show()"
   ]
  },
  {
   "cell_type": "code",
   "execution_count": 20,
   "id": "73da3de1",
   "metadata": {},
   "outputs": [],
   "source": [
    "from pyspark.sql import functions as F"
   ]
  },
  {
   "cell_type": "code",
   "execution_count": 23,
   "id": "cd86c286",
   "metadata": {},
   "outputs": [
    {
     "name": "stdout",
     "output_type": "stream",
     "text": [
      "+-----------+------------+------------+------------+\n",
      "|pickup_date|dropoff_date|PULocationID|DOLocationID|\n",
      "+-----------+------------+------------+------------+\n",
      "| 2021-01-14|  2021-01-14|          17|          61|\n",
      "| 2021-01-14|  2021-01-14|          61|          71|\n",
      "| 2021-01-15|  2021-01-15|         142|         107|\n",
      "| 2021-01-29|  2021-01-29|         159|          78|\n",
      "| 2021-01-07|  2021-01-07|         119|         235|\n",
      "| 2021-01-11|  2021-01-11|         158|          87|\n",
      "| 2021-01-09|  2021-01-09|         118|           6|\n",
      "| 2021-01-27|  2021-01-27|         116|          50|\n",
      "| 2021-01-23|  2021-01-23|          17|         189|\n",
      "| 2021-01-15|  2021-01-15|         117|          86|\n",
      "| 2021-01-29|  2021-01-29|         205|         215|\n",
      "| 2021-01-23|  2021-01-23|          36|         198|\n",
      "| 2021-01-19|  2021-01-19|          87|          33|\n",
      "| 2021-01-30|  2021-01-30|          69|         212|\n",
      "| 2021-01-28|  2021-01-28|          20|          78|\n",
      "| 2021-01-07|  2021-01-07|          82|          75|\n",
      "| 2021-01-26|  2021-01-26|          47|          59|\n",
      "| 2021-01-21|  2021-01-21|          41|         159|\n",
      "| 2021-01-16|  2021-01-16|          18|         136|\n",
      "| 2021-01-16|  2021-01-16|         210|          11|\n",
      "+-----------+------------+------------+------------+\n",
      "only showing top 20 rows\n",
      "\n"
     ]
    }
   ],
   "source": [
    "df \\\n",
    "    .withColumn('pickup_date', F.to_date(df.pickup_datetime)) \\\n",
    "    .withColumn('dropoff_date', F.to_date(df.pickup_datetime)) \\\n",
    "    .select('pickup_date', 'dropoff_date', 'PULocationID', 'DOLocationID') \\\n",
    "    .show()"
   ]
  },
  {
   "cell_type": "code",
   "execution_count": 25,
   "id": "9513435c",
   "metadata": {},
   "outputs": [],
   "source": [
    "# You can create functions to manipulate the df data that you wouldn't usually see when working with SQL on a data warehouse\n",
    "# This logic is just random, but the concept of creating udf is powerful depending on use case\n",
    "def crazy_stuff(base_num):\n",
    "    num = int(base_num[1:])\n",
    "    if num % 7 ==0:\n",
    "        return f's/{num:03x}'\n",
    "    elif num % 3 ==0:\n",
    "        return f'a/{num:03x}'\n",
    "    else:\n",
    "        return f'e/{num:03x}'"
   ]
  },
  {
   "cell_type": "code",
   "execution_count": 30,
   "id": "b406a1d6",
   "metadata": {},
   "outputs": [],
   "source": [
    "# Create udf (user defined fuctions) with Spark\n",
    "crazy_stuff_udf = F.udf(crazy_stuff, returnType=types.StringType())"
   ]
  },
  {
   "cell_type": "code",
   "execution_count": 43,
   "id": "9f93b923",
   "metadata": {},
   "outputs": [
    {
     "name": "stdout",
     "output_type": "stream",
     "text": [
      "+-----------+------------+-------+------------+------------+\n",
      "|pickup_date|dropoff_date|base_id|PULocationID|DOLocationID|\n",
      "+-----------+------------+-------+------------+------------+\n",
      "| 2021-01-14|  2021-01-14|  e/9ce|          17|          61|\n",
      "| 2021-01-14|  2021-01-14|  e/9ce|          61|          71|\n",
      "| 2021-01-15|  2021-01-15|  e/acc|         142|         107|\n",
      "| 2021-01-29|  2021-01-29|  a/b49|         159|          78|\n",
      "| 2021-01-07|  2021-01-07|  e/9ce|         119|         235|\n",
      "| 2021-01-11|  2021-01-11|  e/acc|         158|          87|\n",
      "| 2021-01-09|  2021-01-09|  e/b32|         118|           6|\n",
      "| 2021-01-27|  2021-01-27|  e/b38|         116|          50|\n",
      "| 2021-01-23|  2021-01-23|  e/a39|          17|         189|\n",
      "| 2021-01-15|  2021-01-15|  e/9ce|         117|          86|\n",
      "| 2021-01-29|  2021-01-29|  e/acc|         205|         215|\n",
      "| 2021-01-23|  2021-01-23|  e/9ce|          36|         198|\n",
      "| 2021-01-19|  2021-01-19|  e/9ce|          87|          33|\n",
      "| 2021-01-30|  2021-01-30|  e/b30|          69|         212|\n",
      "| 2021-01-28|  2021-01-28|  s/b13|          20|          78|\n",
      "| 2021-01-07|  2021-01-07|  e/b3b|          82|          75|\n",
      "| 2021-01-26|  2021-01-26|  e/b3f|          47|          59|\n",
      "| 2021-01-21|  2021-01-21|  s/acd|          41|         159|\n",
      "| 2021-01-16|  2021-01-16|  e/9ce|          18|         136|\n",
      "| 2021-01-16|  2021-01-16|  e/9ce|         210|          11|\n",
      "+-----------+------------+-------+------------+------------+\n",
      "only showing top 20 rows\n",
      "\n"
     ]
    }
   ],
   "source": [
    "df \\\n",
    "    .withColumn('pickup_date', F.to_date(df.pickup_datetime)) \\\n",
    "    .withColumn('dropoff_date', F.to_date(df.pickup_datetime)) \\\n",
    "    .withColumn('base_id', crazy_stuff_udf(df.dispatching_base_num)) \\\n",
    "    .select('pickup_date', 'dropoff_date', 'base_id','PULocationID', 'DOLocationID') \\\n",
    "    .show()"
   ]
  },
  {
   "cell_type": "code",
   "execution_count": null,
   "id": "2e4517cb",
   "metadata": {},
   "outputs": [],
   "source": []
  }
 ],
 "metadata": {
  "kernelspec": {
   "display_name": "Python 3 (ipykernel)",
   "language": "python",
   "name": "python3"
  },
  "language_info": {
   "codemirror_mode": {
    "name": "ipython",
    "version": 3
   },
   "file_extension": ".py",
   "mimetype": "text/x-python",
   "name": "python",
   "nbconvert_exporter": "python",
   "pygments_lexer": "ipython3",
   "version": "3.9.13"
  }
 },
 "nbformat": 4,
 "nbformat_minor": 5
}
