{
 "cells": [
  {
   "cell_type": "code",
   "execution_count": 31,
   "id": "1520431c",
   "metadata": {},
   "outputs": [],
   "source": [
    "# Question 1\n",
    "import pyspark\n",
    "from pyspark.sql import SparkSession\n",
    "\n",
    "spark = SparkSession.builder \\\n",
    "    .master(\"local[*]\") \\\n",
    "    .appName('test') \\\n",
    "    .getOrCreate()"
   ]
  },
  {
   "cell_type": "code",
   "execution_count": 33,
   "id": "3ed42f97",
   "metadata": {},
   "outputs": [
    {
     "data": {
      "text/html": [
       "\n",
       "            <div>\n",
       "                <p><b>SparkSession - in-memory</b></p>\n",
       "                \n",
       "        <div>\n",
       "            <p><b>SparkContext</b></p>\n",
       "\n",
       "            <p><a href=\"http://de-zoomcamp.australia-southeast1-b.c.ny-rides-kelvin.internal:4040\">Spark UI</a></p>\n",
       "\n",
       "            <dl>\n",
       "              <dt>Version</dt>\n",
       "                <dd><code>v3.0.3</code></dd>\n",
       "              <dt>Master</dt>\n",
       "                <dd><code>local[*]</code></dd>\n",
       "              <dt>AppName</dt>\n",
       "                <dd><code>test</code></dd>\n",
       "            </dl>\n",
       "        </div>\n",
       "        \n",
       "            </div>\n",
       "        "
      ],
      "text/plain": [
       "<pyspark.sql.session.SparkSession at 0x7fcdf89faa00>"
      ]
     },
     "execution_count": 33,
     "metadata": {},
     "output_type": "execute_result"
    }
   ],
   "source": [
    "spark"
   ]
  },
  {
   "cell_type": "code",
   "execution_count": 20,
   "id": "9c69a651",
   "metadata": {},
   "outputs": [
    {
     "name": "stdout",
     "output_type": "stream",
     "text": [
      "--2023-02-09 00:04:42--  https://d37ci6vzurychx.cloudfront.net/trip-data/fhvhv_tripdata_2021-02.parquet\n",
      "Resolving d37ci6vzurychx.cloudfront.net (d37ci6vzurychx.cloudfront.net)... 108.138.245.58, 108.138.245.225, 108.138.245.16, ...\n",
      "Connecting to d37ci6vzurychx.cloudfront.net (d37ci6vzurychx.cloudfront.net)|108.138.245.58|:443... connected.\n",
      "HTTP request sent, awaiting response... 200 OK\n",
      "Length: 302633211 (289M) [application/x-www-form-urlencoded]\n",
      "Saving to: ‘data/fhvhv_tripdata_2021-02.parquet’\n",
      "\n",
      "fhvhv_tripdata_2021 100%[===================>] 288.61M  20.4MB/s    in 15s     \n",
      "\n",
      "2023-02-09 00:04:58 (18.7 MB/s) - ‘data/fhvhv_tripdata_2021-02.parquet’ saved [302633211/302633211]\n",
      "\n"
     ]
    }
   ],
   "source": [
    "# Question 2\n",
    "!sudo wget https://d37ci6vzurychx.cloudfront.net/trip-data/fhvhv_tripdata_2021-02.parquet -P data"
   ]
  },
  {
   "cell_type": "code",
   "execution_count": 23,
   "id": "c69a7cfc",
   "metadata": {},
   "outputs": [],
   "source": [
    "import pandas as pd"
   ]
  },
  {
   "cell_type": "code",
   "execution_count": 26,
   "id": "94833cd7",
   "metadata": {},
   "outputs": [
    {
     "data": {
      "text/html": [
       "<div>\n",
       "<style scoped>\n",
       "    .dataframe tbody tr th:only-of-type {\n",
       "        vertical-align: middle;\n",
       "    }\n",
       "\n",
       "    .dataframe tbody tr th {\n",
       "        vertical-align: top;\n",
       "    }\n",
       "\n",
       "    .dataframe thead th {\n",
       "        text-align: right;\n",
       "    }\n",
       "</style>\n",
       "<table border=\"1\" class=\"dataframe\">\n",
       "  <thead>\n",
       "    <tr style=\"text-align: right;\">\n",
       "      <th></th>\n",
       "      <th>hvfhs_license_num</th>\n",
       "      <th>dispatching_base_num</th>\n",
       "      <th>originating_base_num</th>\n",
       "      <th>request_datetime</th>\n",
       "      <th>on_scene_datetime</th>\n",
       "      <th>pickup_datetime</th>\n",
       "      <th>dropoff_datetime</th>\n",
       "      <th>PULocationID</th>\n",
       "      <th>DOLocationID</th>\n",
       "      <th>trip_miles</th>\n",
       "      <th>...</th>\n",
       "      <th>sales_tax</th>\n",
       "      <th>congestion_surcharge</th>\n",
       "      <th>airport_fee</th>\n",
       "      <th>tips</th>\n",
       "      <th>driver_pay</th>\n",
       "      <th>shared_request_flag</th>\n",
       "      <th>shared_match_flag</th>\n",
       "      <th>access_a_ride_flag</th>\n",
       "      <th>wav_request_flag</th>\n",
       "      <th>wav_match_flag</th>\n",
       "    </tr>\n",
       "  </thead>\n",
       "  <tbody>\n",
       "    <tr>\n",
       "      <th>0</th>\n",
       "      <td>HV0003</td>\n",
       "      <td>B02764</td>\n",
       "      <td>B02764</td>\n",
       "      <td>2021-01-31 23:59:00</td>\n",
       "      <td>2021-02-01 00:10:19</td>\n",
       "      <td>2021-02-01 00:10:40</td>\n",
       "      <td>2021-02-01 00:21:09</td>\n",
       "      <td>35</td>\n",
       "      <td>39</td>\n",
       "      <td>2.060</td>\n",
       "      <td>...</td>\n",
       "      <td>1.52</td>\n",
       "      <td>0.0</td>\n",
       "      <td>NaN</td>\n",
       "      <td>0.0</td>\n",
       "      <td>9.79</td>\n",
       "      <td>N</td>\n",
       "      <td>N</td>\n",
       "      <td></td>\n",
       "      <td>N</td>\n",
       "      <td>N</td>\n",
       "    </tr>\n",
       "    <tr>\n",
       "      <th>1</th>\n",
       "      <td>HV0003</td>\n",
       "      <td>B02764</td>\n",
       "      <td>B02764</td>\n",
       "      <td>2021-02-01 00:13:35</td>\n",
       "      <td>2021-02-01 00:25:23</td>\n",
       "      <td>2021-02-01 00:27:23</td>\n",
       "      <td>2021-02-01 00:44:01</td>\n",
       "      <td>39</td>\n",
       "      <td>35</td>\n",
       "      <td>3.150</td>\n",
       "      <td>...</td>\n",
       "      <td>2.85</td>\n",
       "      <td>0.0</td>\n",
       "      <td>NaN</td>\n",
       "      <td>0.0</td>\n",
       "      <td>24.01</td>\n",
       "      <td>N</td>\n",
       "      <td>N</td>\n",
       "      <td></td>\n",
       "      <td>N</td>\n",
       "      <td>N</td>\n",
       "    </tr>\n",
       "    <tr>\n",
       "      <th>2</th>\n",
       "      <td>HV0005</td>\n",
       "      <td>B02510</td>\n",
       "      <td>None</td>\n",
       "      <td>2021-02-01 00:12:55</td>\n",
       "      <td>NaT</td>\n",
       "      <td>2021-02-01 00:28:38</td>\n",
       "      <td>2021-02-01 00:38:27</td>\n",
       "      <td>39</td>\n",
       "      <td>91</td>\n",
       "      <td>1.776</td>\n",
       "      <td>...</td>\n",
       "      <td>1.12</td>\n",
       "      <td>0.0</td>\n",
       "      <td>NaN</td>\n",
       "      <td>0.0</td>\n",
       "      <td>6.91</td>\n",
       "      <td>N</td>\n",
       "      <td>N</td>\n",
       "      <td>N</td>\n",
       "      <td>N</td>\n",
       "      <td>N</td>\n",
       "    </tr>\n",
       "    <tr>\n",
       "      <th>3</th>\n",
       "      <td>HV0005</td>\n",
       "      <td>B02510</td>\n",
       "      <td>None</td>\n",
       "      <td>2021-02-01 00:36:01</td>\n",
       "      <td>NaT</td>\n",
       "      <td>2021-02-01 00:43:37</td>\n",
       "      <td>2021-02-01 01:23:20</td>\n",
       "      <td>91</td>\n",
       "      <td>228</td>\n",
       "      <td>13.599</td>\n",
       "      <td>...</td>\n",
       "      <td>2.91</td>\n",
       "      <td>0.0</td>\n",
       "      <td>NaN</td>\n",
       "      <td>7.0</td>\n",
       "      <td>35.05</td>\n",
       "      <td>N</td>\n",
       "      <td>N</td>\n",
       "      <td>N</td>\n",
       "      <td>N</td>\n",
       "      <td>N</td>\n",
       "    </tr>\n",
       "    <tr>\n",
       "      <th>4</th>\n",
       "      <td>HV0003</td>\n",
       "      <td>B02872</td>\n",
       "      <td>B02872</td>\n",
       "      <td>2021-01-31 23:57:50</td>\n",
       "      <td>2021-02-01 00:08:25</td>\n",
       "      <td>2021-02-01 00:08:42</td>\n",
       "      <td>2021-02-01 00:17:57</td>\n",
       "      <td>126</td>\n",
       "      <td>250</td>\n",
       "      <td>2.620</td>\n",
       "      <td>...</td>\n",
       "      <td>1.38</td>\n",
       "      <td>0.0</td>\n",
       "      <td>NaN</td>\n",
       "      <td>0.0</td>\n",
       "      <td>8.53</td>\n",
       "      <td>N</td>\n",
       "      <td>N</td>\n",
       "      <td></td>\n",
       "      <td>N</td>\n",
       "      <td>N</td>\n",
       "    </tr>\n",
       "    <tr>\n",
       "      <th>5</th>\n",
       "      <td>HV0003</td>\n",
       "      <td>B02872</td>\n",
       "      <td>B02872</td>\n",
       "      <td>2021-02-01 00:11:48</td>\n",
       "      <td>2021-02-01 00:24:25</td>\n",
       "      <td>2021-02-01 00:26:02</td>\n",
       "      <td>2021-02-01 00:42:51</td>\n",
       "      <td>208</td>\n",
       "      <td>243</td>\n",
       "      <td>6.890</td>\n",
       "      <td>...</td>\n",
       "      <td>1.77</td>\n",
       "      <td>0.0</td>\n",
       "      <td>NaN</td>\n",
       "      <td>0.0</td>\n",
       "      <td>16.05</td>\n",
       "      <td>N</td>\n",
       "      <td>N</td>\n",
       "      <td></td>\n",
       "      <td>N</td>\n",
       "      <td>N</td>\n",
       "    </tr>\n",
       "    <tr>\n",
       "      <th>6</th>\n",
       "      <td>HV0003</td>\n",
       "      <td>B02872</td>\n",
       "      <td>B02872</td>\n",
       "      <td>2021-02-01 00:39:45</td>\n",
       "      <td>2021-02-01 00:44:57</td>\n",
       "      <td>2021-02-01 00:45:50</td>\n",
       "      <td>2021-02-01 01:02:50</td>\n",
       "      <td>243</td>\n",
       "      <td>220</td>\n",
       "      <td>4.260</td>\n",
       "      <td>...</td>\n",
       "      <td>3.76</td>\n",
       "      <td>0.0</td>\n",
       "      <td>NaN</td>\n",
       "      <td>0.0</td>\n",
       "      <td>25.42</td>\n",
       "      <td>N</td>\n",
       "      <td>N</td>\n",
       "      <td></td>\n",
       "      <td>N</td>\n",
       "      <td>N</td>\n",
       "    </tr>\n",
       "    <tr>\n",
       "      <th>7</th>\n",
       "      <td>HV0003</td>\n",
       "      <td>B02764</td>\n",
       "      <td>B02764</td>\n",
       "      <td>2021-01-31 23:55:59</td>\n",
       "      <td>2021-02-01 00:04:42</td>\n",
       "      <td>2021-02-01 00:06:42</td>\n",
       "      <td>2021-02-01 00:31:50</td>\n",
       "      <td>49</td>\n",
       "      <td>37</td>\n",
       "      <td>2.950</td>\n",
       "      <td>...</td>\n",
       "      <td>2.40</td>\n",
       "      <td>0.0</td>\n",
       "      <td>NaN</td>\n",
       "      <td>0.0</td>\n",
       "      <td>22.29</td>\n",
       "      <td>N</td>\n",
       "      <td>N</td>\n",
       "      <td></td>\n",
       "      <td>N</td>\n",
       "      <td>N</td>\n",
       "    </tr>\n",
       "    <tr>\n",
       "      <th>8</th>\n",
       "      <td>HV0003</td>\n",
       "      <td>B02764</td>\n",
       "      <td>B02764</td>\n",
       "      <td>2021-02-01 00:27:54</td>\n",
       "      <td>2021-02-01 00:33:12</td>\n",
       "      <td>2021-02-01 00:34:34</td>\n",
       "      <td>2021-02-01 00:58:13</td>\n",
       "      <td>37</td>\n",
       "      <td>76</td>\n",
       "      <td>3.410</td>\n",
       "      <td>...</td>\n",
       "      <td>2.03</td>\n",
       "      <td>0.0</td>\n",
       "      <td>NaN</td>\n",
       "      <td>0.0</td>\n",
       "      <td>23.77</td>\n",
       "      <td>N</td>\n",
       "      <td>N</td>\n",
       "      <td></td>\n",
       "      <td>N</td>\n",
       "      <td>N</td>\n",
       "    </tr>\n",
       "    <tr>\n",
       "      <th>9</th>\n",
       "      <td>HV0005</td>\n",
       "      <td>B02510</td>\n",
       "      <td>None</td>\n",
       "      <td>2021-01-31 23:56:04</td>\n",
       "      <td>NaT</td>\n",
       "      <td>2021-02-01 00:03:43</td>\n",
       "      <td>2021-02-01 00:39:37</td>\n",
       "      <td>80</td>\n",
       "      <td>241</td>\n",
       "      <td>15.998</td>\n",
       "      <td>...</td>\n",
       "      <td>4.44</td>\n",
       "      <td>0.0</td>\n",
       "      <td>NaN</td>\n",
       "      <td>0.0</td>\n",
       "      <td>35.80</td>\n",
       "      <td>N</td>\n",
       "      <td>N</td>\n",
       "      <td>N</td>\n",
       "      <td>N</td>\n",
       "      <td>N</td>\n",
       "    </tr>\n",
       "  </tbody>\n",
       "</table>\n",
       "<p>10 rows × 24 columns</p>\n",
       "</div>"
      ],
      "text/plain": [
       "  hvfhs_license_num dispatching_base_num originating_base_num  \\\n",
       "0            HV0003               B02764               B02764   \n",
       "1            HV0003               B02764               B02764   \n",
       "2            HV0005               B02510                 None   \n",
       "3            HV0005               B02510                 None   \n",
       "4            HV0003               B02872               B02872   \n",
       "5            HV0003               B02872               B02872   \n",
       "6            HV0003               B02872               B02872   \n",
       "7            HV0003               B02764               B02764   \n",
       "8            HV0003               B02764               B02764   \n",
       "9            HV0005               B02510                 None   \n",
       "\n",
       "     request_datetime   on_scene_datetime     pickup_datetime  \\\n",
       "0 2021-01-31 23:59:00 2021-02-01 00:10:19 2021-02-01 00:10:40   \n",
       "1 2021-02-01 00:13:35 2021-02-01 00:25:23 2021-02-01 00:27:23   \n",
       "2 2021-02-01 00:12:55                 NaT 2021-02-01 00:28:38   \n",
       "3 2021-02-01 00:36:01                 NaT 2021-02-01 00:43:37   \n",
       "4 2021-01-31 23:57:50 2021-02-01 00:08:25 2021-02-01 00:08:42   \n",
       "5 2021-02-01 00:11:48 2021-02-01 00:24:25 2021-02-01 00:26:02   \n",
       "6 2021-02-01 00:39:45 2021-02-01 00:44:57 2021-02-01 00:45:50   \n",
       "7 2021-01-31 23:55:59 2021-02-01 00:04:42 2021-02-01 00:06:42   \n",
       "8 2021-02-01 00:27:54 2021-02-01 00:33:12 2021-02-01 00:34:34   \n",
       "9 2021-01-31 23:56:04                 NaT 2021-02-01 00:03:43   \n",
       "\n",
       "     dropoff_datetime  PULocationID  DOLocationID  trip_miles  ...  sales_tax  \\\n",
       "0 2021-02-01 00:21:09            35            39       2.060  ...       1.52   \n",
       "1 2021-02-01 00:44:01            39            35       3.150  ...       2.85   \n",
       "2 2021-02-01 00:38:27            39            91       1.776  ...       1.12   \n",
       "3 2021-02-01 01:23:20            91           228      13.599  ...       2.91   \n",
       "4 2021-02-01 00:17:57           126           250       2.620  ...       1.38   \n",
       "5 2021-02-01 00:42:51           208           243       6.890  ...       1.77   \n",
       "6 2021-02-01 01:02:50           243           220       4.260  ...       3.76   \n",
       "7 2021-02-01 00:31:50            49            37       2.950  ...       2.40   \n",
       "8 2021-02-01 00:58:13            37            76       3.410  ...       2.03   \n",
       "9 2021-02-01 00:39:37            80           241      15.998  ...       4.44   \n",
       "\n",
       "   congestion_surcharge  airport_fee  tips  driver_pay  shared_request_flag  \\\n",
       "0                   0.0          NaN   0.0        9.79                    N   \n",
       "1                   0.0          NaN   0.0       24.01                    N   \n",
       "2                   0.0          NaN   0.0        6.91                    N   \n",
       "3                   0.0          NaN   7.0       35.05                    N   \n",
       "4                   0.0          NaN   0.0        8.53                    N   \n",
       "5                   0.0          NaN   0.0       16.05                    N   \n",
       "6                   0.0          NaN   0.0       25.42                    N   \n",
       "7                   0.0          NaN   0.0       22.29                    N   \n",
       "8                   0.0          NaN   0.0       23.77                    N   \n",
       "9                   0.0          NaN   0.0       35.80                    N   \n",
       "\n",
       "   shared_match_flag  access_a_ride_flag  wav_request_flag wav_match_flag  \n",
       "0                  N                                     N              N  \n",
       "1                  N                                     N              N  \n",
       "2                  N                   N                 N              N  \n",
       "3                  N                   N                 N              N  \n",
       "4                  N                                     N              N  \n",
       "5                  N                                     N              N  \n",
       "6                  N                                     N              N  \n",
       "7                  N                                     N              N  \n",
       "8                  N                                     N              N  \n",
       "9                  N                   N                 N              N  \n",
       "\n",
       "[10 rows x 24 columns]"
      ]
     },
     "execution_count": 26,
     "metadata": {},
     "output_type": "execute_result"
    }
   ],
   "source": [
    "# Read parquet file into pandas df and check data by creating df_head\n",
    "df_fhvhv = pd.read_parquet('/data/fhvhv_tripdata_2021-02.parquet')\n",
    "df_fhvhv_head = df_fhvhv.head(10)\n",
    "df_fhvhv_head"
   ]
  },
  {
   "cell_type": "code",
   "execution_count": 27,
   "id": "1b5d5505",
   "metadata": {},
   "outputs": [
    {
     "data": {
      "text/plain": [
       "StructType(List(StructField(hvfhs_license_num,StringType,true),StructField(dispatching_base_num,StringType,true),StructField(originating_base_num,StringType,true),StructField(request_datetime,TimestampType,true),StructField(on_scene_datetime,TimestampType,true),StructField(pickup_datetime,TimestampType,true),StructField(dropoff_datetime,TimestampType,true),StructField(PULocationID,LongType,true),StructField(DOLocationID,LongType,true),StructField(trip_miles,DoubleType,true),StructField(trip_time,LongType,true),StructField(base_passenger_fare,DoubleType,true),StructField(tolls,DoubleType,true),StructField(bcf,DoubleType,true),StructField(sales_tax,DoubleType,true),StructField(congestion_surcharge,DoubleType,true),StructField(airport_fee,DoubleType,true),StructField(tips,DoubleType,true),StructField(driver_pay,DoubleType,true),StructField(shared_request_flag,StringType,true),StructField(shared_match_flag,StringType,true),StructField(access_a_ride_flag,StringType,true),StructField(wav_request_flag,StringType,true),StructField(wav_match_flag,StringType,true)))"
      ]
     },
     "execution_count": 27,
     "metadata": {},
     "output_type": "execute_result"
    }
   ],
   "source": [
    "# Show the schema of a Spark df created from a pandas df\n",
    "spark.createDataFrame(df_fhvhv_head).schema"
   ]
  },
  {
   "cell_type": "code",
   "execution_count": 29,
   "id": "1a071780",
   "metadata": {},
   "outputs": [
    {
     "name": "stdout",
     "output_type": "stream",
     "text": [
      "Processing data for fhvhv_tripdata_2021-02.parquet...\n"
     ]
    },
    {
     "name": "stderr",
     "output_type": "stream",
     "text": [
      "                                                                                \r"
     ]
    }
   ],
   "source": [
    "filename = 'fhvhv_tripdata_2021-02.parquet'\n",
    "print(f'Processing data for {filename}...')\n",
    "input_path = 'data/'\n",
    "output_path = 'data_partition/'\n",
    "\n",
    "# Overwrite pd df as spark df\n",
    "df_fhvhv = spark.read \\\n",
    "    .option(\"header\", \"true\") \\\n",
    "    .parquet(input_path)\n",
    "\n",
    "#Repartition to 24 partitions\n",
    "df_fhvhv \\\n",
    "    .repartition(24) \\\n",
    "    .write.parquet(output_path)"
   ]
  },
  {
   "cell_type": "code",
   "execution_count": 44,
   "id": "9081d4c3",
   "metadata": {},
   "outputs": [
    {
     "name": "stdout",
     "output_type": "stream",
     "text": [
      "515M\t../data_partition/\r\n"
     ]
    }
   ],
   "source": [
    "!du -sh ../data_partition/"
   ]
  },
  {
   "cell_type": "code",
   "execution_count": 47,
   "id": "7b84c9b8",
   "metadata": {},
   "outputs": [],
   "source": [
    "# Read partitioned parquet by parsing directory as spark df\n",
    "df_fhvhv_pt = spark.read.parquet('data_partition')"
   ]
  },
  {
   "cell_type": "code",
   "execution_count": 48,
   "id": "435c2ec9",
   "metadata": {},
   "outputs": [],
   "source": [
    "# Register temp table to do SQL on it\n",
    "df_fhvhv_pt.registerTempTable('fhvhv_pt')"
   ]
  },
  {
   "cell_type": "code",
   "execution_count": 72,
   "id": "7c190dfb",
   "metadata": {},
   "outputs": [
    {
     "name": "stderr",
     "output_type": "stream",
     "text": [
      "[Stage 48:==============================================>           (4 + 1) / 5]\r"
     ]
    },
    {
     "name": "stdout",
     "output_type": "stream",
     "text": [
      "+--------+\n",
      "|count(1)|\n",
      "+--------+\n",
      "|  367170|\n",
      "+--------+\n",
      "\n"
     ]
    },
    {
     "name": "stderr",
     "output_type": "stream",
     "text": [
      "\r",
      "                                                                                \r"
     ]
    }
   ],
   "source": [
    "spark.sql(\"\"\"\n",
    "SELECT\n",
    "    COUNT(*)\n",
    "FROM\n",
    "    fhvhv_pt\n",
    "WHERE\n",
    "    TO_DATE(pickup_datetime) = \"2021-02-15\";\n",
    "\"\"\").show()"
   ]
  },
  {
   "cell_type": "code",
   "execution_count": 120,
   "id": "a85dd5a1",
   "metadata": {},
   "outputs": [
    {
     "name": "stderr",
     "output_type": "stream",
     "text": [
      "[Stage 92:==============================================>           (4 + 1) / 5]\r"
     ]
    },
    {
     "name": "stdout",
     "output_type": "stream",
     "text": [
      "+---+-----------------------------------------------------+\n",
      "|day|count(extract('DAY' FROM fhvhv_pt.`pickup_datetime`))|\n",
      "+---+-----------------------------------------------------+\n",
      "|  1|                                               176946|\n",
      "|  2|                                               302785|\n",
      "|  3|                                               421697|\n",
      "+---+-----------------------------------------------------+\n",
      "only showing top 3 rows\n",
      "\n"
     ]
    },
    {
     "name": "stderr",
     "output_type": "stream",
     "text": [
      "\r",
      "[Stage 93:==================================================>   (187 + 4) / 200]\r",
      "\r",
      "                                                                                \r"
     ]
    }
   ],
   "source": [
    "spark.sql(\"\"\"\n",
    "SELECT\n",
    "    EXTRACT(DAY FROM pickup_datetime) AS day,\n",
    "    COUNT(EXTRACT(DAY FROM pickup_datetime))\n",
    "FROM\n",
    "    fhvhv_pt\n",
    "GROUP BY day\n",
    "ORDER BY day\n",
    "-- WHERE\n",
    "--    \"\n",
    "\"\"\").show(3)"
   ]
  },
  {
   "cell_type": "code",
   "execution_count": 118,
   "id": "7bcc94ce",
   "metadata": {},
   "outputs": [
    {
     "name": "stdout",
     "output_type": "stream",
     "text": [
      "+-------------------+-------------------+---------------------+---------------------+\n",
      "|    pickup_datetime|   dropoff_datetime|TripDurationInSeconds|TripDurationInMinutes|\n",
      "+-------------------+-------------------+---------------------+---------------------+\n",
      "|2021-02-11 20:38:00|2021-02-11 20:42:37|                  277|                  4.6|\n",
      "|2021-02-13 23:07:38|2021-02-13 23:12:57|                  319|                  5.3|\n",
      "|2021-02-28 20:52:18|2021-02-28 21:01:00|                  522|                  8.7|\n",
      "+-------------------+-------------------+---------------------+---------------------+\n",
      "only showing top 3 rows\n",
      "\n"
     ]
    }
   ],
   "source": [
    "from pyspark.sql.functions import *\n",
    "select_cols = ['pickup_datetime', 'dropoff_datetime', 'TripDurationInSeconds', 'TripDurationInMinutes']\n",
    "df_fhvhv_pt_duration=df_fhvhv_pt \\\n",
    "    .withColumn('TripDurationInSeconds', col(\"dropoff_datetime\").cast(\"long\") - col('pickup_datetime').cast(\"long\")) \\\n",
    "    .withColumn('TripDurationInMinutes', round(col(\"TripDurationInSeconds\")/60,1)) \\\n",
    "    .select(select_cols)\n",
    "df_fhvhv_pt_duration.show(3)"
   ]
  },
  {
   "cell_type": "code",
   "execution_count": 119,
   "id": "6d4b5770",
   "metadata": {},
   "outputs": [
    {
     "name": "stderr",
     "output_type": "stream",
     "text": [
      "[Stage 90:==============================================>           (4 + 1) / 5]\r"
     ]
    },
    {
     "name": "stdout",
     "output_type": "stream",
     "text": [
      "+--------------------------+--------------------------+--------------------------+\n",
      "|to_date(`pickup_datetime`)|avg(TripDurationInSeconds)|avg(TripDurationInMinutes)|\n",
      "+--------------------------+--------------------------+--------------------------+\n",
      "|                2021-02-04|        1147.4014095252628|        19.131712649487973|\n",
      "|                2021-02-05|         1099.123832937176|         18.32713455007255|\n",
      "|                2021-02-26|        1095.1929630896173|        18.261583764791027|\n",
      "+--------------------------+--------------------------+--------------------------+\n",
      "only showing top 3 rows\n",
      "\n"
     ]
    },
    {
     "name": "stderr",
     "output_type": "stream",
     "text": [
      "\r",
      "[Stage 91:=====================================================>(198 + 2) / 200]\r",
      "\r",
      "                                                                                \r"
     ]
    }
   ],
   "source": [
    "df_fhvhv_pt_duration \\\n",
    "    .groupby(to_date('pickup_datetime')) \\\n",
    "    .avg() \\\n",
    "    .sort(avg('TripDurationInMinutes').desc()) \\\n",
    "    .show(3)"
   ]
  },
  {
   "cell_type": "code",
   "execution_count": 140,
   "id": "70d2e98f",
   "metadata": {},
   "outputs": [
    {
     "name": "stderr",
     "output_type": "stream",
     "text": [
      "\r",
      "[Stage 119:>                                                        (0 + 4) / 5]\r",
      "\r",
      "[Stage 119:=============================================>           (4 + 1) / 5]\r"
     ]
    },
    {
     "name": "stdout",
     "output_type": "stream",
     "text": [
      "+--------------------+-------+\n",
      "|dispatching_base_num|  count|\n",
      "+--------------------+-------+\n",
      "|              B02510|3233664|\n",
      "|              B02764| 965568|\n",
      "|              B02872| 882689|\n",
      "+--------------------+-------+\n",
      "only showing top 3 rows\n",
      "\n"
     ]
    },
    {
     "name": "stderr",
     "output_type": "stream",
     "text": [
      "\r",
      "                                                                                \r"
     ]
    }
   ],
   "source": [
    "df_fhvhv_pt \\\n",
    "    .groupby(\"dispatching_base_num\") \\\n",
    "    .count() \\\n",
    "    .sort((col(\"count\")).desc()) \\\n",
    "    .show(3)"
   ]
  },
  {
   "cell_type": "code",
   "execution_count": 143,
   "id": "aceaf869",
   "metadata": {
    "scrolled": true
   },
   "outputs": [
    {
     "name": "stdout",
     "output_type": "stream",
     "text": [
      "--2023-02-09 02:25:26--  https://d37ci6vzurychx.cloudfront.net/misc/taxi+_zone_lookup.csv\n",
      "Resolving d37ci6vzurychx.cloudfront.net (d37ci6vzurychx.cloudfront.net)... 143.204.130.13, 143.204.130.167, 143.204.130.121, ...\n",
      "Connecting to d37ci6vzurychx.cloudfront.net (d37ci6vzurychx.cloudfront.net)|143.204.130.13|:443... connected.\n",
      "HTTP request sent, awaiting response... 200 OK\n",
      "Length: 12322 (12K) [text/csv]\n",
      "Saving to: ‘taxi+_zone_lookup.csv’\n",
      "\n",
      "taxi+_zone_lookup.c 100%[===================>]  12.03K  --.-KB/s    in 0s      \n",
      "\n",
      "2023-02-09 02:25:27 (30.6 MB/s) - ‘taxi+_zone_lookup.csv’ saved [12322/12322]\n",
      "\n"
     ]
    }
   ],
   "source": [
    "# Download taxi lookup table csv file\n",
    "!sudo wget https://d37ci6vzurychx.cloudfront.net/misc/taxi+_zone_lookup.csv"
   ]
  },
  {
   "cell_type": "code",
   "execution_count": 144,
   "id": "b902561e",
   "metadata": {},
   "outputs": [
    {
     "data": {
      "text/plain": [
       "'/home/kelvin/de-zoomcamp/week_5/homework/data'"
      ]
     },
     "execution_count": 144,
     "metadata": {},
     "output_type": "execute_result"
    }
   ],
   "source": [
    "pwd"
   ]
  },
  {
   "cell_type": "code",
   "execution_count": 146,
   "id": "a7d69e8c",
   "metadata": {},
   "outputs": [],
   "source": [
    "# Read taxi zone csv in to pandas df\n",
    "df_zone = pd.read_csv('taxi+_zone_lookup.csv')"
   ]
  },
  {
   "cell_type": "code",
   "execution_count": 148,
   "id": "482558e3",
   "metadata": {},
   "outputs": [
    {
     "data": {
      "text/html": [
       "<div>\n",
       "<style scoped>\n",
       "    .dataframe tbody tr th:only-of-type {\n",
       "        vertical-align: middle;\n",
       "    }\n",
       "\n",
       "    .dataframe tbody tr th {\n",
       "        vertical-align: top;\n",
       "    }\n",
       "\n",
       "    .dataframe thead th {\n",
       "        text-align: right;\n",
       "    }\n",
       "</style>\n",
       "<table border=\"1\" class=\"dataframe\">\n",
       "  <thead>\n",
       "    <tr style=\"text-align: right;\">\n",
       "      <th></th>\n",
       "      <th>LocationID</th>\n",
       "      <th>Borough</th>\n",
       "      <th>Zone</th>\n",
       "      <th>service_zone</th>\n",
       "    </tr>\n",
       "  </thead>\n",
       "  <tbody>\n",
       "    <tr>\n",
       "      <th>0</th>\n",
       "      <td>1</td>\n",
       "      <td>EWR</td>\n",
       "      <td>Newark Airport</td>\n",
       "      <td>EWR</td>\n",
       "    </tr>\n",
       "    <tr>\n",
       "      <th>1</th>\n",
       "      <td>2</td>\n",
       "      <td>Queens</td>\n",
       "      <td>Jamaica Bay</td>\n",
       "      <td>Boro Zone</td>\n",
       "    </tr>\n",
       "    <tr>\n",
       "      <th>2</th>\n",
       "      <td>3</td>\n",
       "      <td>Bronx</td>\n",
       "      <td>Allerton/Pelham Gardens</td>\n",
       "      <td>Boro Zone</td>\n",
       "    </tr>\n",
       "    <tr>\n",
       "      <th>3</th>\n",
       "      <td>4</td>\n",
       "      <td>Manhattan</td>\n",
       "      <td>Alphabet City</td>\n",
       "      <td>Yellow Zone</td>\n",
       "    </tr>\n",
       "    <tr>\n",
       "      <th>4</th>\n",
       "      <td>5</td>\n",
       "      <td>Staten Island</td>\n",
       "      <td>Arden Heights</td>\n",
       "      <td>Boro Zone</td>\n",
       "    </tr>\n",
       "    <tr>\n",
       "      <th>5</th>\n",
       "      <td>6</td>\n",
       "      <td>Staten Island</td>\n",
       "      <td>Arrochar/Fort Wadsworth</td>\n",
       "      <td>Boro Zone</td>\n",
       "    </tr>\n",
       "    <tr>\n",
       "      <th>6</th>\n",
       "      <td>7</td>\n",
       "      <td>Queens</td>\n",
       "      <td>Astoria</td>\n",
       "      <td>Boro Zone</td>\n",
       "    </tr>\n",
       "    <tr>\n",
       "      <th>7</th>\n",
       "      <td>8</td>\n",
       "      <td>Queens</td>\n",
       "      <td>Astoria Park</td>\n",
       "      <td>Boro Zone</td>\n",
       "    </tr>\n",
       "    <tr>\n",
       "      <th>8</th>\n",
       "      <td>9</td>\n",
       "      <td>Queens</td>\n",
       "      <td>Auburndale</td>\n",
       "      <td>Boro Zone</td>\n",
       "    </tr>\n",
       "    <tr>\n",
       "      <th>9</th>\n",
       "      <td>10</td>\n",
       "      <td>Queens</td>\n",
       "      <td>Baisley Park</td>\n",
       "      <td>Boro Zone</td>\n",
       "    </tr>\n",
       "  </tbody>\n",
       "</table>\n",
       "</div>"
      ],
      "text/plain": [
       "   LocationID        Borough                     Zone service_zone\n",
       "0           1            EWR           Newark Airport          EWR\n",
       "1           2         Queens              Jamaica Bay    Boro Zone\n",
       "2           3          Bronx  Allerton/Pelham Gardens    Boro Zone\n",
       "3           4      Manhattan            Alphabet City  Yellow Zone\n",
       "4           5  Staten Island            Arden Heights    Boro Zone\n",
       "5           6  Staten Island  Arrochar/Fort Wadsworth    Boro Zone\n",
       "6           7         Queens                  Astoria    Boro Zone\n",
       "7           8         Queens             Astoria Park    Boro Zone\n",
       "8           9         Queens               Auburndale    Boro Zone\n",
       "9          10         Queens             Baisley Park    Boro Zone"
      ]
     },
     "execution_count": 148,
     "metadata": {},
     "output_type": "execute_result"
    }
   ],
   "source": [
    "# Check data\n",
    "df_zone_head = df_zone.head(10)\n",
    "df_zone_head"
   ]
  },
  {
   "cell_type": "code",
   "execution_count": 151,
   "id": "80e729d2",
   "metadata": {},
   "outputs": [],
   "source": [
    "# Create spark df\n",
    "df_zone = spark.read \\\n",
    "    .option(\"header\", \"true\") \\\n",
    "    .csv('data/taxi+_zone_lookup.csv')"
   ]
  },
  {
   "cell_type": "code",
   "execution_count": 289,
   "id": "ce96a2b1",
   "metadata": {},
   "outputs": [],
   "source": [
    "# Join tables\n",
    "df_join = df_fhvhv_pt \\\n",
    "    .join(df_zone.alias(\"pickup_zone\"), col(\"PULocationID\") == col(\"pickup_zone.LocationID\")) \\\n",
    "    .join(df_zone.alias('dropoff_zone'), col(\"DOLocationID\") == col(\"dropoff_zone.LocationID\"))\n",
    "df_result = df_join \\\n",
    "    .select(col('pickup_zone.Zone').alias('pickup_zone'),\n",
    "        col('dropoff_zone.Zone').alias('dropoff_zone'),\n",
    "        concat_ws('/', 'pickup_zone.Zone','dropoff_zone.Zone').alias(\"Pair\"))"
   ]
  },
  {
   "cell_type": "code",
   "execution_count": 287,
   "id": "b5badd4a",
   "metadata": {},
   "outputs": [
    {
     "name": "stdout",
     "output_type": "stream",
     "text": [
      "+-------------------------+---------------------+--------------------------------------+\n",
      "|pickup_zone              |dropoff_zone         |Pair                                  |\n",
      "+-------------------------+---------------------+--------------------------------------+\n",
      "|Norwood                  |Van Cortlandt Village|Norwood/Van Cortlandt Village         |\n",
      "|Times Sq/Theatre District|East Chelsea         |Times Sq/Theatre District/East Chelsea|\n",
      "|Saint Albans             |Hollis               |Saint Albans/Hollis                   |\n",
      "+-------------------------+---------------------+--------------------------------------+\n",
      "only showing top 3 rows\n",
      "\n"
     ]
    }
   ],
   "source": [
    "df_result.show(3, truncate=False)"
   ]
  },
  {
   "cell_type": "code",
   "execution_count": 285,
   "id": "ff9f149c",
   "metadata": {},
   "outputs": [
    {
     "name": "stderr",
     "output_type": "stream",
     "text": [
      "[Stage 253:=============================================>           (4 + 1) / 5]\r"
     ]
    },
    {
     "name": "stdout",
     "output_type": "stream",
     "text": [
      "+---------------------------+-----+\n",
      "|Pair                       |count|\n",
      "+---------------------------+-----+\n",
      "|East New York/East New York|45041|\n",
      "|Borough Park/Borough Park  |37329|\n",
      "|Canarsie/Canarsie          |28026|\n",
      "+---------------------------+-----+\n",
      "only showing top 3 rows\n",
      "\n"
     ]
    },
    {
     "name": "stderr",
     "output_type": "stream",
     "text": [
      "\r",
      "                                                                                \r"
     ]
    }
   ],
   "source": [
    "# Find highest pickup/dropoff pair\n",
    "df_result.groupby('Pair').count().sort(col('count').desc()).show(3, truncate=False)"
   ]
  }
 ],
 "metadata": {
  "kernelspec": {
   "display_name": "Python 3 (ipykernel)",
   "language": "python",
   "name": "python3"
  },
  "language_info": {
   "codemirror_mode": {
    "name": "ipython",
    "version": 3
   },
   "file_extension": ".py",
   "mimetype": "text/x-python",
   "name": "python",
   "nbconvert_exporter": "python",
   "pygments_lexer": "ipython3",
   "version": "3.9.13"
  }
 },
 "nbformat": 4,
 "nbformat_minor": 5
}
