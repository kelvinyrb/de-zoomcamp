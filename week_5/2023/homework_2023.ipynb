{
 "cells": [
  {
   "cell_type": "code",
   "execution_count": 1,
   "id": "4ee477b5",
   "metadata": {},
   "outputs": [
    {
     "name": "stderr",
     "output_type": "stream",
     "text": [
      "WARNING: An illegal reflective access operation has occurred\n",
      "WARNING: Illegal reflective access by org.apache.spark.unsafe.Platform (file:/home/kelvin/spark/spark-3.0.3-bin-hadoop3.2/jars/spark-unsafe_2.12-3.0.3.jar) to constructor java.nio.DirectByteBuffer(long,int)\n",
      "WARNING: Please consider reporting this to the maintainers of org.apache.spark.unsafe.Platform\n",
      "WARNING: Use --illegal-access=warn to enable warnings of further illegal reflective access operations\n",
      "WARNING: All illegal access operations will be denied in a future release\n",
      "23/02/25 12:16:07 WARN NativeCodeLoader: Unable to load native-hadoop library for your platform... using builtin-java classes where applicable\n",
      "Using Spark's default log4j profile: org/apache/spark/log4j-defaults.properties\n",
      "Setting default log level to \"WARN\".\n",
      "To adjust logging level use sc.setLogLevel(newLevel). For SparkR, use setLogLevel(newLevel).\n"
     ]
    }
   ],
   "source": [
    "# Question 1\n",
    "import pyspark\n",
    "from pyspark.sql import SparkSession\n",
    "\n",
    "spark = SparkSession.builder \\\n",
    "    .master(\"local[*]\") \\\n",
    "    .appName('test') \\\n",
    "    .getOrCreate()"
   ]
  },
  {
   "cell_type": "code",
   "execution_count": 2,
   "id": "796a226c",
   "metadata": {},
   "outputs": [
    {
     "data": {
      "text/html": [
       "\n",
       "            <div>\n",
       "                <p><b>SparkSession - in-memory</b></p>\n",
       "                \n",
       "        <div>\n",
       "            <p><b>SparkContext</b></p>\n",
       "\n",
       "            <p><a href=\"http://de-zoomcamp.australia-southeast1-b.c.ny-rides-kelvin.internal:4040\">Spark UI</a></p>\n",
       "\n",
       "            <dl>\n",
       "              <dt>Version</dt>\n",
       "                <dd><code>v3.0.3</code></dd>\n",
       "              <dt>Master</dt>\n",
       "                <dd><code>local[*]</code></dd>\n",
       "              <dt>AppName</dt>\n",
       "                <dd><code>test</code></dd>\n",
       "            </dl>\n",
       "        </div>\n",
       "        \n",
       "            </div>\n",
       "        "
      ],
      "text/plain": [
       "<pyspark.sql.session.SparkSession at 0x7fe016c7ffd0>"
      ]
     },
     "execution_count": 2,
     "metadata": {},
     "output_type": "execute_result"
    }
   ],
   "source": [
    "spark"
   ]
  },
  {
   "cell_type": "code",
   "execution_count": 3,
   "id": "6bb1d0be",
   "metadata": {},
   "outputs": [
    {
     "name": "stdout",
     "output_type": "stream",
     "text": [
      "--2023-02-25 12:17:57--  https://d37ci6vzurychx.cloudfront.net/trip-data/fhvhv_tripdata_2021-06.parquet\n",
      "Resolving d37ci6vzurychx.cloudfront.net (d37ci6vzurychx.cloudfront.net)... 108.138.245.58, 108.138.245.225, 108.138.245.96, ...\n",
      "Connecting to d37ci6vzurychx.cloudfront.net (d37ci6vzurychx.cloudfront.net)|108.138.245.58|:443... connected.\n",
      "HTTP request sent, awaiting response... 200 OK\n",
      "Length: 394114750 (376M) [application/x-www-form-urlencoded]\n",
      "Saving to: ‘data/fhvhv_tripdata_2021-06.parquet’\n",
      "\n",
      "fhvhv_tripdata_2021 100%[===================>] 375.86M  20.4MB/s    in 20s     \n",
      "\n",
      "2023-02-25 12:18:18 (19.0 MB/s) - ‘data/fhvhv_tripdata_2021-06.parquet’ saved [394114750/394114750]\n",
      "\n"
     ]
    }
   ],
   "source": [
    "# Question 2\n",
    "!sudo wget https://d37ci6vzurychx.cloudfront.net/trip-data/fhvhv_tripdata_2021-06.parquet -P data"
   ]
  },
  {
   "cell_type": "code",
   "execution_count": 6,
   "id": "a1044b83",
   "metadata": {},
   "outputs": [
    {
     "data": {
      "text/plain": [
       "'/home/kelvin/de-zoomcamp/week_5/2023'"
      ]
     },
     "execution_count": 6,
     "metadata": {},
     "output_type": "execute_result"
    }
   ],
   "source": [
    "pwd"
   ]
  },
  {
   "cell_type": "code",
   "execution_count": 7,
   "id": "fa6baaf9",
   "metadata": {},
   "outputs": [
    {
     "data": {
      "text/html": [
       "<div>\n",
       "<style scoped>\n",
       "    .dataframe tbody tr th:only-of-type {\n",
       "        vertical-align: middle;\n",
       "    }\n",
       "\n",
       "    .dataframe tbody tr th {\n",
       "        vertical-align: top;\n",
       "    }\n",
       "\n",
       "    .dataframe thead th {\n",
       "        text-align: right;\n",
       "    }\n",
       "</style>\n",
       "<table border=\"1\" class=\"dataframe\">\n",
       "  <thead>\n",
       "    <tr style=\"text-align: right;\">\n",
       "      <th></th>\n",
       "      <th>hvfhs_license_num</th>\n",
       "      <th>dispatching_base_num</th>\n",
       "      <th>originating_base_num</th>\n",
       "      <th>request_datetime</th>\n",
       "      <th>on_scene_datetime</th>\n",
       "      <th>pickup_datetime</th>\n",
       "      <th>dropoff_datetime</th>\n",
       "      <th>PULocationID</th>\n",
       "      <th>DOLocationID</th>\n",
       "      <th>trip_miles</th>\n",
       "      <th>...</th>\n",
       "      <th>sales_tax</th>\n",
       "      <th>congestion_surcharge</th>\n",
       "      <th>airport_fee</th>\n",
       "      <th>tips</th>\n",
       "      <th>driver_pay</th>\n",
       "      <th>shared_request_flag</th>\n",
       "      <th>shared_match_flag</th>\n",
       "      <th>access_a_ride_flag</th>\n",
       "      <th>wav_request_flag</th>\n",
       "      <th>wav_match_flag</th>\n",
       "    </tr>\n",
       "  </thead>\n",
       "  <tbody>\n",
       "    <tr>\n",
       "      <th>0</th>\n",
       "      <td>HV0003</td>\n",
       "      <td>B02764</td>\n",
       "      <td>B02764</td>\n",
       "      <td>2021-05-31 23:53:49</td>\n",
       "      <td>2021-06-01 00:02:23</td>\n",
       "      <td>2021-06-01 00:02:41</td>\n",
       "      <td>2021-06-01 00:07:46</td>\n",
       "      <td>174</td>\n",
       "      <td>18</td>\n",
       "      <td>1.000</td>\n",
       "      <td>...</td>\n",
       "      <td>0.72</td>\n",
       "      <td>0.00</td>\n",
       "      <td>0.0</td>\n",
       "      <td>0.0</td>\n",
       "      <td>7.03</td>\n",
       "      <td>N</td>\n",
       "      <td>N</td>\n",
       "      <td></td>\n",
       "      <td>N</td>\n",
       "      <td>N</td>\n",
       "    </tr>\n",
       "    <tr>\n",
       "      <th>1</th>\n",
       "      <td>HV0003</td>\n",
       "      <td>B02764</td>\n",
       "      <td>B02764</td>\n",
       "      <td>2021-06-01 00:08:40</td>\n",
       "      <td>2021-06-01 00:15:20</td>\n",
       "      <td>2021-06-01 00:16:16</td>\n",
       "      <td>2021-06-01 00:21:14</td>\n",
       "      <td>32</td>\n",
       "      <td>254</td>\n",
       "      <td>1.390</td>\n",
       "      <td>...</td>\n",
       "      <td>0.84</td>\n",
       "      <td>0.00</td>\n",
       "      <td>0.0</td>\n",
       "      <td>0.0</td>\n",
       "      <td>9.03</td>\n",
       "      <td>N</td>\n",
       "      <td>N</td>\n",
       "      <td></td>\n",
       "      <td>N</td>\n",
       "      <td>N</td>\n",
       "    </tr>\n",
       "    <tr>\n",
       "      <th>2</th>\n",
       "      <td>HV0003</td>\n",
       "      <td>B02764</td>\n",
       "      <td>B02764</td>\n",
       "      <td>2021-06-01 00:15:26</td>\n",
       "      <td>2021-06-01 00:24:48</td>\n",
       "      <td>2021-06-01 00:27:01</td>\n",
       "      <td>2021-06-01 00:42:11</td>\n",
       "      <td>240</td>\n",
       "      <td>127</td>\n",
       "      <td>5.510</td>\n",
       "      <td>...</td>\n",
       "      <td>1.74</td>\n",
       "      <td>0.00</td>\n",
       "      <td>0.0</td>\n",
       "      <td>0.0</td>\n",
       "      <td>15.34</td>\n",
       "      <td>N</td>\n",
       "      <td>N</td>\n",
       "      <td></td>\n",
       "      <td>N</td>\n",
       "      <td>N</td>\n",
       "    </tr>\n",
       "    <tr>\n",
       "      <th>3</th>\n",
       "      <td>HV0003</td>\n",
       "      <td>B02764</td>\n",
       "      <td>B02764</td>\n",
       "      <td>2021-06-01 00:22:29</td>\n",
       "      <td>2021-06-01 00:44:48</td>\n",
       "      <td>2021-06-01 00:46:08</td>\n",
       "      <td>2021-06-01 00:53:45</td>\n",
       "      <td>127</td>\n",
       "      <td>235</td>\n",
       "      <td>1.500</td>\n",
       "      <td>...</td>\n",
       "      <td>0.75</td>\n",
       "      <td>0.00</td>\n",
       "      <td>0.0</td>\n",
       "      <td>1.0</td>\n",
       "      <td>9.13</td>\n",
       "      <td>N</td>\n",
       "      <td>N</td>\n",
       "      <td></td>\n",
       "      <td>N</td>\n",
       "      <td>N</td>\n",
       "    </tr>\n",
       "    <tr>\n",
       "      <th>4</th>\n",
       "      <td>HV0005</td>\n",
       "      <td>B02510</td>\n",
       "      <td>None</td>\n",
       "      <td>2021-06-01 00:42:14</td>\n",
       "      <td>NaT</td>\n",
       "      <td>2021-06-01 00:45:42</td>\n",
       "      <td>2021-06-01 01:03:33</td>\n",
       "      <td>144</td>\n",
       "      <td>146</td>\n",
       "      <td>5.072</td>\n",
       "      <td>...</td>\n",
       "      <td>2.71</td>\n",
       "      <td>2.75</td>\n",
       "      <td>0.0</td>\n",
       "      <td>0.0</td>\n",
       "      <td>18.21</td>\n",
       "      <td>N</td>\n",
       "      <td>N</td>\n",
       "      <td>N</td>\n",
       "      <td>N</td>\n",
       "      <td>N</td>\n",
       "    </tr>\n",
       "    <tr>\n",
       "      <th>5</th>\n",
       "      <td>HV0005</td>\n",
       "      <td>B02510</td>\n",
       "      <td>None</td>\n",
       "      <td>2021-06-01 00:14:30</td>\n",
       "      <td>NaT</td>\n",
       "      <td>2021-06-01 00:18:15</td>\n",
       "      <td>2021-06-01 00:25:47</td>\n",
       "      <td>49</td>\n",
       "      <td>17</td>\n",
       "      <td>0.876</td>\n",
       "      <td>...</td>\n",
       "      <td>0.86</td>\n",
       "      <td>0.00</td>\n",
       "      <td>0.0</td>\n",
       "      <td>0.0</td>\n",
       "      <td>5.47</td>\n",
       "      <td>N</td>\n",
       "      <td>N</td>\n",
       "      <td>N</td>\n",
       "      <td>N</td>\n",
       "      <td>N</td>\n",
       "    </tr>\n",
       "    <tr>\n",
       "      <th>6</th>\n",
       "      <td>HV0005</td>\n",
       "      <td>B02510</td>\n",
       "      <td>None</td>\n",
       "      <td>2021-06-01 00:21:47</td>\n",
       "      <td>NaT</td>\n",
       "      <td>2021-06-01 00:33:06</td>\n",
       "      <td>2021-06-01 00:42:46</td>\n",
       "      <td>49</td>\n",
       "      <td>225</td>\n",
       "      <td>1.834</td>\n",
       "      <td>...</td>\n",
       "      <td>1.11</td>\n",
       "      <td>0.00</td>\n",
       "      <td>0.0</td>\n",
       "      <td>0.0</td>\n",
       "      <td>6.89</td>\n",
       "      <td>N</td>\n",
       "      <td>N</td>\n",
       "      <td>N</td>\n",
       "      <td>N</td>\n",
       "      <td>N</td>\n",
       "    </tr>\n",
       "    <tr>\n",
       "      <th>7</th>\n",
       "      <td>HV0005</td>\n",
       "      <td>B02510</td>\n",
       "      <td>None</td>\n",
       "      <td>2021-06-01 00:42:01</td>\n",
       "      <td>NaT</td>\n",
       "      <td>2021-06-01 00:46:27</td>\n",
       "      <td>2021-06-01 00:56:50</td>\n",
       "      <td>225</td>\n",
       "      <td>177</td>\n",
       "      <td>1.676</td>\n",
       "      <td>...</td>\n",
       "      <td>0.92</td>\n",
       "      <td>0.00</td>\n",
       "      <td>0.0</td>\n",
       "      <td>0.0</td>\n",
       "      <td>7.08</td>\n",
       "      <td>N</td>\n",
       "      <td>N</td>\n",
       "      <td>N</td>\n",
       "      <td>N</td>\n",
       "      <td>N</td>\n",
       "    </tr>\n",
       "    <tr>\n",
       "      <th>8</th>\n",
       "      <td>HV0003</td>\n",
       "      <td>B02764</td>\n",
       "      <td>B02764</td>\n",
       "      <td>2021-06-01 00:40:30</td>\n",
       "      <td>2021-06-01 00:43:07</td>\n",
       "      <td>2021-06-01 00:48:06</td>\n",
       "      <td>2021-06-01 01:04:10</td>\n",
       "      <td>209</td>\n",
       "      <td>45</td>\n",
       "      <td>0.960</td>\n",
       "      <td>...</td>\n",
       "      <td>3.94</td>\n",
       "      <td>2.75</td>\n",
       "      <td>0.0</td>\n",
       "      <td>0.0</td>\n",
       "      <td>28.41</td>\n",
       "      <td>N</td>\n",
       "      <td>N</td>\n",
       "      <td></td>\n",
       "      <td>N</td>\n",
       "      <td>N</td>\n",
       "    </tr>\n",
       "    <tr>\n",
       "      <th>9</th>\n",
       "      <td>HV0003</td>\n",
       "      <td>B02875</td>\n",
       "      <td>B02875</td>\n",
       "      <td>2021-06-01 00:11:42</td>\n",
       "      <td>2021-06-01 00:17:53</td>\n",
       "      <td>2021-06-01 00:18:54</td>\n",
       "      <td>2021-06-01 00:26:14</td>\n",
       "      <td>80</td>\n",
       "      <td>256</td>\n",
       "      <td>1.310</td>\n",
       "      <td>...</td>\n",
       "      <td>0.66</td>\n",
       "      <td>0.00</td>\n",
       "      <td>0.0</td>\n",
       "      <td>0.0</td>\n",
       "      <td>11.14</td>\n",
       "      <td>N</td>\n",
       "      <td>N</td>\n",
       "      <td></td>\n",
       "      <td>N</td>\n",
       "      <td>N</td>\n",
       "    </tr>\n",
       "  </tbody>\n",
       "</table>\n",
       "<p>10 rows × 24 columns</p>\n",
       "</div>"
      ],
      "text/plain": [
       "  hvfhs_license_num dispatching_base_num originating_base_num  \\\n",
       "0            HV0003               B02764               B02764   \n",
       "1            HV0003               B02764               B02764   \n",
       "2            HV0003               B02764               B02764   \n",
       "3            HV0003               B02764               B02764   \n",
       "4            HV0005               B02510                 None   \n",
       "5            HV0005               B02510                 None   \n",
       "6            HV0005               B02510                 None   \n",
       "7            HV0005               B02510                 None   \n",
       "8            HV0003               B02764               B02764   \n",
       "9            HV0003               B02875               B02875   \n",
       "\n",
       "     request_datetime   on_scene_datetime     pickup_datetime  \\\n",
       "0 2021-05-31 23:53:49 2021-06-01 00:02:23 2021-06-01 00:02:41   \n",
       "1 2021-06-01 00:08:40 2021-06-01 00:15:20 2021-06-01 00:16:16   \n",
       "2 2021-06-01 00:15:26 2021-06-01 00:24:48 2021-06-01 00:27:01   \n",
       "3 2021-06-01 00:22:29 2021-06-01 00:44:48 2021-06-01 00:46:08   \n",
       "4 2021-06-01 00:42:14                 NaT 2021-06-01 00:45:42   \n",
       "5 2021-06-01 00:14:30                 NaT 2021-06-01 00:18:15   \n",
       "6 2021-06-01 00:21:47                 NaT 2021-06-01 00:33:06   \n",
       "7 2021-06-01 00:42:01                 NaT 2021-06-01 00:46:27   \n",
       "8 2021-06-01 00:40:30 2021-06-01 00:43:07 2021-06-01 00:48:06   \n",
       "9 2021-06-01 00:11:42 2021-06-01 00:17:53 2021-06-01 00:18:54   \n",
       "\n",
       "     dropoff_datetime  PULocationID  DOLocationID  trip_miles  ...  sales_tax  \\\n",
       "0 2021-06-01 00:07:46           174            18       1.000  ...       0.72   \n",
       "1 2021-06-01 00:21:14            32           254       1.390  ...       0.84   \n",
       "2 2021-06-01 00:42:11           240           127       5.510  ...       1.74   \n",
       "3 2021-06-01 00:53:45           127           235       1.500  ...       0.75   \n",
       "4 2021-06-01 01:03:33           144           146       5.072  ...       2.71   \n",
       "5 2021-06-01 00:25:47            49            17       0.876  ...       0.86   \n",
       "6 2021-06-01 00:42:46            49           225       1.834  ...       1.11   \n",
       "7 2021-06-01 00:56:50           225           177       1.676  ...       0.92   \n",
       "8 2021-06-01 01:04:10           209            45       0.960  ...       3.94   \n",
       "9 2021-06-01 00:26:14            80           256       1.310  ...       0.66   \n",
       "\n",
       "   congestion_surcharge  airport_fee  tips  driver_pay  shared_request_flag  \\\n",
       "0                  0.00          0.0   0.0        7.03                    N   \n",
       "1                  0.00          0.0   0.0        9.03                    N   \n",
       "2                  0.00          0.0   0.0       15.34                    N   \n",
       "3                  0.00          0.0   1.0        9.13                    N   \n",
       "4                  2.75          0.0   0.0       18.21                    N   \n",
       "5                  0.00          0.0   0.0        5.47                    N   \n",
       "6                  0.00          0.0   0.0        6.89                    N   \n",
       "7                  0.00          0.0   0.0        7.08                    N   \n",
       "8                  2.75          0.0   0.0       28.41                    N   \n",
       "9                  0.00          0.0   0.0       11.14                    N   \n",
       "\n",
       "   shared_match_flag  access_a_ride_flag  wav_request_flag wav_match_flag  \n",
       "0                  N                                     N              N  \n",
       "1                  N                                     N              N  \n",
       "2                  N                                     N              N  \n",
       "3                  N                                     N              N  \n",
       "4                  N                   N                 N              N  \n",
       "5                  N                   N                 N              N  \n",
       "6                  N                   N                 N              N  \n",
       "7                  N                   N                 N              N  \n",
       "8                  N                                     N              N  \n",
       "9                  N                                     N              N  \n",
       "\n",
       "[10 rows x 24 columns]"
      ]
     },
     "execution_count": 7,
     "metadata": {},
     "output_type": "execute_result"
    }
   ],
   "source": [
    "import pandas as pd\n",
    "# Read parquet file into pandas df and check data by creating df_head\n",
    "df_fhvhv = pd.read_parquet('data/fhvhv_tripdata_2021-06.parquet')\n",
    "df_fhvhv_head = df_fhvhv.head(10)\n",
    "df_fhvhv_head"
   ]
  },
  {
   "cell_type": "code",
   "execution_count": 8,
   "id": "74d59d56",
   "metadata": {},
   "outputs": [
    {
     "data": {
      "text/plain": [
       "StructType(List(StructField(hvfhs_license_num,StringType,true),StructField(dispatching_base_num,StringType,true),StructField(originating_base_num,StringType,true),StructField(request_datetime,TimestampType,true),StructField(on_scene_datetime,TimestampType,true),StructField(pickup_datetime,TimestampType,true),StructField(dropoff_datetime,TimestampType,true),StructField(PULocationID,LongType,true),StructField(DOLocationID,LongType,true),StructField(trip_miles,DoubleType,true),StructField(trip_time,LongType,true),StructField(base_passenger_fare,DoubleType,true),StructField(tolls,DoubleType,true),StructField(bcf,DoubleType,true),StructField(sales_tax,DoubleType,true),StructField(congestion_surcharge,DoubleType,true),StructField(airport_fee,DoubleType,true),StructField(tips,DoubleType,true),StructField(driver_pay,DoubleType,true),StructField(shared_request_flag,StringType,true),StructField(shared_match_flag,StringType,true),StructField(access_a_ride_flag,StringType,true),StructField(wav_request_flag,StringType,true),StructField(wav_match_flag,StringType,true)))"
      ]
     },
     "execution_count": 8,
     "metadata": {},
     "output_type": "execute_result"
    }
   ],
   "source": [
    "# Show the schema of a Spark df created from a pandas df\n",
    "spark.createDataFrame(df_fhvhv_head).schema"
   ]
  },
  {
   "cell_type": "code",
   "execution_count": 9,
   "id": "df3463b2",
   "metadata": {},
   "outputs": [
    {
     "name": "stdout",
     "output_type": "stream",
     "text": [
      "Processing data for fhvhv_tripdata_2021-06.parquet...\n"
     ]
    },
    {
     "name": "stderr",
     "output_type": "stream",
     "text": [
      "                                                                                \r"
     ]
    }
   ],
   "source": [
    "filename = 'fhvhv_tripdata_2021-06.parquet'\n",
    "print(f'Processing data for {filename}...')\n",
    "input_path = 'data/'\n",
    "output_path = 'data_partition/'\n",
    "\n",
    "# Overwrite pd df as spark df\n",
    "df_fhvhv = spark.read \\\n",
    "    .option(\"header\", \"true\") \\\n",
    "    .parquet(input_path)\n",
    "\n",
    "#Repartition to 12 partitions\n",
    "df_fhvhv \\\n",
    "    .repartition(12) \\\n",
    "    .write.parquet(output_path)"
   ]
  },
  {
   "cell_type": "code",
   "execution_count": 11,
   "id": "13127359",
   "metadata": {},
   "outputs": [
    {
     "name": "stdout",
     "output_type": "stream",
     "text": [
      "du: cannot access '../data_partition/': No such file or directory\r\n"
     ]
    }
   ],
   "source": [
    "!du -sh ../data_partition/"
   ]
  },
  {
   "cell_type": "code",
   "execution_count": 13,
   "id": "1e83d5e6",
   "metadata": {},
   "outputs": [
    {
     "name": "stderr",
     "output_type": "stream",
     "text": [
      "[Stage 7:=======================================>                   (4 + 2) / 6]\r"
     ]
    },
    {
     "name": "stdout",
     "output_type": "stream",
     "text": [
      "+--------+\n",
      "|count(1)|\n",
      "+--------+\n",
      "|  452470|\n",
      "+--------+\n",
      "\n"
     ]
    },
    {
     "name": "stderr",
     "output_type": "stream",
     "text": [
      "\r",
      "                                                                                \r"
     ]
    }
   ],
   "source": [
    "# Read partitioned parquet by parsing directory as spark df\n",
    "df_fhvhv_pt = spark.read.parquet('data_partition')\n",
    "\n",
    "# Register temp table to do SQL on it\n",
    "df_fhvhv_pt.registerTempTable('fhvhv_pt')\n",
    "\n",
    "# Count trips starting on 2021-01-15\n",
    "spark.sql(\"\"\"\n",
    "SELECT\n",
    "    COUNT(*)\n",
    "FROM\n",
    "    fhvhv_pt\n",
    "WHERE\n",
    "    TO_DATE(pickup_datetime) = \"2021-06-15\";\n",
    "\"\"\").show()"
   ]
  },
  {
   "cell_type": "code",
   "execution_count": 23,
   "id": "af0c2b1d",
   "metadata": {},
   "outputs": [
    {
     "name": "stdout",
     "output_type": "stream",
     "text": [
      "+-------------------+-------------------+---------------------+---------------------+-------------------+\n",
      "|    pickup_datetime|   dropoff_datetime|TripDurationInSeconds|TripDurationInMinutes|TripDurationInHours|\n",
      "+-------------------+-------------------+---------------------+---------------------+-------------------+\n",
      "|2021-06-16 17:48:46|2021-06-16 18:45:19|                 3393|                 56.6|                0.9|\n",
      "|2021-06-26 16:01:51|2021-06-26 16:06:57|                  306|                  5.1|                0.1|\n",
      "|2021-06-22 13:15:19|2021-06-22 13:48:41|                 2002|                 33.4|                0.6|\n",
      "|2021-06-28 22:59:08|2021-06-28 23:19:44|                 1236|                 20.6|                0.3|\n",
      "|2021-06-10 21:05:51|2021-06-10 21:44:42|                 2331|                 38.9|                0.6|\n",
      "|2021-06-26 14:48:00|2021-06-26 15:18:00|                 1800|                 30.0|                0.5|\n",
      "|2021-06-26 06:23:44|2021-06-26 06:35:37|                  713|                 11.9|                0.2|\n",
      "|2021-06-08 20:43:25|2021-06-08 21:33:06|                 2981|                 49.7|                0.8|\n",
      "|2021-06-09 08:08:46|2021-06-09 08:24:07|                  921|                 15.4|                0.3|\n",
      "|2021-06-10 07:30:50|2021-06-10 07:46:01|                  911|                 15.2|                0.3|\n",
      "+-------------------+-------------------+---------------------+---------------------+-------------------+\n",
      "only showing top 10 rows\n",
      "\n"
     ]
    }
   ],
   "source": [
    "from pyspark.sql.functions import *\n",
    "select_cols = ['pickup_datetime', 'dropoff_datetime', 'TripDurationInSeconds', 'TripDurationInMinutes','TripDurationInHours']\n",
    "df_fhvhv_pt_duration=df_fhvhv_pt \\\n",
    "    .withColumn('TripDurationInSeconds', col(\"dropoff_datetime\").cast(\"long\") - col('pickup_datetime').cast(\"long\")) \\\n",
    "    .withColumn('TripDurationInMinutes', round(col(\"TripDurationInSeconds\")/60,1)) \\\n",
    "    .withColumn('TripDurationInHours', round(col(\"TripDurationInMinutes\")/60,1)) \\\n",
    "    .select(select_cols)\n",
    "df_fhvhv_pt_duration.show(10)"
   ]
  },
  {
   "cell_type": "code",
   "execution_count": 24,
   "id": "4ff4e184",
   "metadata": {},
   "outputs": [
    {
     "name": "stderr",
     "output_type": "stream",
     "text": [
      "                                                                                \r"
     ]
    },
    {
     "name": "stdout",
     "output_type": "stream",
     "text": [
      "+-------------------+-------------------+---------------------+---------------------+-------------------+\n",
      "|    pickup_datetime|   dropoff_datetime|TripDurationInSeconds|TripDurationInMinutes|TripDurationInHours|\n",
      "+-------------------+-------------------+---------------------+---------------------+-------------------+\n",
      "|2021-06-25 13:55:41|2021-06-28 08:48:25|               240764|               4012.7|               66.9|\n",
      "|2021-06-22 12:09:45|2021-06-23 13:42:44|                91979|               1533.0|               25.6|\n",
      "|2021-06-27 10:32:29|2021-06-28 06:31:20|                71931|               1198.9|               20.0|\n",
      "+-------------------+-------------------+---------------------+---------------------+-------------------+\n",
      "only showing top 3 rows\n",
      "\n"
     ]
    }
   ],
   "source": [
    "df_fhvhv_pt_duration \\\n",
    "    .sort(col('TripDurationInHours').desc()) \\\n",
    "    .show(3)"
   ]
  },
  {
   "cell_type": "code",
   "execution_count": null,
   "id": "3ed6f412",
   "metadata": {},
   "outputs": [],
   "source": [
    "# Download taxi lookup table csv file\n",
    "!sudo wget https://d37ci6vzurychx.cloudfront.net/misc/taxi+_zone_lookup.csv"
   ]
  },
  {
   "cell_type": "code",
   "execution_count": 30,
   "id": "940c9fc3",
   "metadata": {},
   "outputs": [
    {
     "name": "stderr",
     "output_type": "stream",
     "text": [
      "[Stage 25:=============================================>        (167 + 4) / 200]\r"
     ]
    },
    {
     "name": "stdout",
     "output_type": "stream",
     "text": [
      "+-------------------+------+\n",
      "|pickup_zone        |count |\n",
      "+-------------------+------+\n",
      "|Crown Heights North|231279|\n",
      "|East Village       |221244|\n",
      "|JFK Airport        |188867|\n",
      "+-------------------+------+\n",
      "only showing top 3 rows\n",
      "\n"
     ]
    },
    {
     "name": "stderr",
     "output_type": "stream",
     "text": [
      "\r",
      "                                                                                \r"
     ]
    }
   ],
   "source": [
    "# Read taxi zone csv in to pandas df\n",
    "df_zone = pd.read_csv('taxi+_zone_lookup.csv')\n",
    "\n",
    "# Create speak df\n",
    "df_zone = spark.read \\\n",
    "    .option(\"header\", \"true\") \\\n",
    "    .csv('taxi+_zone_lookup.csv')\n",
    "\n",
    "# Join tables\n",
    "df_join = df_fhvhv_pt \\\n",
    "    .join(df_zone.alias(\"pickup_zone\"), col(\"PULocationID\") == col(\"pickup_zone.LocationID\")) \\\n",
    "    .join(df_zone.alias('dropoff_zone'), col(\"DOLocationID\") == col(\"dropoff_zone.LocationID\"))\n",
    "df_result = df_join \\\n",
    "    .select(col('pickup_zone.Zone').alias('pickup_zone'),\n",
    "        col('dropoff_zone.Zone').alias('dropoff_zone'))\n",
    "# Find highest pickup/dropoff pair\n",
    "df_result.groupby('pickup_zone').count().sort(col('count').desc()).show(3, truncate=False)"
   ]
  },
  {
   "cell_type": "code",
   "execution_count": null,
   "id": "4bde3746",
   "metadata": {},
   "outputs": [],
   "source": []
  }
 ],
 "metadata": {
  "kernelspec": {
   "display_name": "Python 3 (ipykernel)",
   "language": "python",
   "name": "python3"
  },
  "language_info": {
   "codemirror_mode": {
    "name": "ipython",
    "version": 3
   },
   "file_extension": ".py",
   "mimetype": "text/x-python",
   "name": "python",
   "nbconvert_exporter": "python",
   "pygments_lexer": "ipython3",
   "version": "3.9.13"
  },
  "vscode": {
   "interpreter": {
    "hash": "10a3158cd2c26143f415f30cd5761aa7163559d9a30e615c5daf97c89fa472c2"
   }
  }
 },
 "nbformat": 4,
 "nbformat_minor": 5
}
