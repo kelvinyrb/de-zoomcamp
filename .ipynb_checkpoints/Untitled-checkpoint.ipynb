{
 "cells": [
  {
   "cell_type": "code",
   "execution_count": 1,
   "id": "7e2e7386",
   "metadata": {},
   "outputs": [],
   "source": [
    "import pyarrow.parquet as pq"
   ]
  },
  {
   "cell_type": "code",
   "execution_count": null,
   "id": "e1f22151",
   "metadata": {},
   "outputs": [],
   "source": [
    "# Set the path to the original parquet file in cloud storage\n",
    "file_path = \"gs://dtc_data_lake_ny-rides-kelvin/fhv_tripdata_2019-01.parquet\"\n",
    "\n",
    "# Read the file using PyArrow\n",
    "table = pq.read_table(file_path)\n",
    "\n",
    "# Select the column to be casted\n",
    "column = table.column(\"column_name\")\n",
    "\n",
    "# Cast the column to INT64\n",
    "casted_column = column.cast(\"int64\")\n",
    "\n",
    "# Replace the original column with the casted column in the table\n",
    "table = table.replace_column(\"column_name\", casted_column)\n"
   ]
  }
 ],
 "metadata": {
  "kernelspec": {
   "display_name": "Python 3 (ipykernel)",
   "language": "python",
   "name": "python3"
  },
  "language_info": {
   "codemirror_mode": {
    "name": "ipython",
    "version": 3
   },
   "file_extension": ".py",
   "mimetype": "text/x-python",
   "name": "python",
   "nbconvert_exporter": "python",
   "pygments_lexer": "ipython3",
   "version": "3.9.13"
  }
 },
 "nbformat": 4,
 "nbformat_minor": 5
}
